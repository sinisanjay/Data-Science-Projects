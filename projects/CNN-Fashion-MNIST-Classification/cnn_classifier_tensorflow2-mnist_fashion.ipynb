{
  "cells": [
    {
      "cell_type": "code",
      "execution_count": null,
      "metadata": {
        "id": "phE45DrJKXaf",
        "outputId": "ba7f5b23-6083-4fc2-ae14-1f7f900446ac"
      },
      "outputs": [
        {
          "name": "stdout",
          "output_type": "stream",
          "text": [
            "Tensorflow version 2.6.0\n"
          ]
        }
      ],
      "source": [
        "#importing the necessary modules.\n",
        "import numpy as np\n",
        "import tensorflow as tf\n",
        "print(\"Tensorflow version\", tf.__version__)"
      ]
    },
    {
      "cell_type": "code",
      "execution_count": null,
      "metadata": {
        "id": "SuTejNlrKXan",
        "outputId": "fc0de3e0-d5ea-4d96-ced3-d1164c47b9b7"
      },
      "outputs": [
        {
          "name": "stdout",
          "output_type": "stream",
          "text": [
            "Keras version 2.6.0\n"
          ]
        }
      ],
      "source": [
        "from tensorflow import keras\n",
        "print(\"Keras version\", keras.__version__)"
      ]
    },
    {
      "cell_type": "code",
      "execution_count": null,
      "metadata": {
        "id": "rNnbsHdmKXap"
      },
      "outputs": [],
      "source": [
        "import matplotlib.pyplot as plt"
      ]
    },
    {
      "cell_type": "code",
      "execution_count": null,
      "metadata": {
        "id": "AEIwJ_O8KXaq"
      },
      "outputs": [],
      "source": [
        "#Set the random seed for tf and np\n",
        "#so as to reuse the same set of random variables and reproduce the results.\n",
        "np.random.seed(42)\n",
        "tf.random.set_seed(42)"
      ]
    },
    {
      "cell_type": "code",
      "execution_count": null,
      "metadata": {
        "id": "9Is49biGKXar"
      },
      "outputs": [],
      "source": [
        "#Loading the Dataset\n",
        "#Get the fashion mnist dataset module from keras using keras.datasets.fashion_mnist.\n",
        "fashion_mnist = keras.datasets.fashion_mnist"
      ]
    },
    {
      "cell_type": "code",
      "execution_count": null,
      "metadata": {
        "id": "5g_ahVw8KXas"
      },
      "outputs": [],
      "source": [
        "#Load and sort the data into train and test sets using load_data()\n",
        "#REf: https://keras.io/api/datasets/fashion_mnist/\n",
        "#Returns Tuple of NumPy arrays: (x_train, y_train), (x_test, y_test)\n",
        "(X_train_full, y_train_full), (X_test, y_test) = fashion_mnist.load_data()"
      ]
    },
    {
      "cell_type": "code",
      "execution_count": null,
      "metadata": {
        "scrolled": true,
        "id": "mSeGAS4UKXat",
        "outputId": "e7e3c189-8dbe-4917-a2fe-6f9f25c0a765"
      },
      "outputs": [
        {
          "data": {
            "text/plain": [
              "(60000, 28, 28)"
            ]
          },
          "execution_count": 7,
          "metadata": {},
          "output_type": "execute_result"
        }
      ],
      "source": [
        "# 60,000 grayscale images, each 28x28 pixels.\n",
        "X_train_full.shape"
      ]
    },
    {
      "cell_type": "code",
      "execution_count": null,
      "metadata": {
        "id": "BdmaLJMAKXau",
        "outputId": "39b7b240-bf56-45fb-a4fa-88228d33a45e"
      },
      "outputs": [
        {
          "data": {
            "text/plain": [
              "<matplotlib.image.AxesImage at 0x7fcef3a11588>"
            ]
          },
          "execution_count": 8,
          "metadata": {},
          "output_type": "execute_result"
        },
        {
          "data": {
            "image/png": "[encoded data removed]",
            "text/plain": [
              "<Figure size 432x288 with 1 Axes>"
            ]
          },
          "metadata": {
            "needs_background": "light"
          },
          "output_type": "display_data"
        }
      ],
      "source": [
        "#Splitting the Data\n",
        "#see an image from the dataset using plt.imshow.\n",
        "plt.imshow(X_train_full[0], cmap='Greys')"
      ]
    },
    {
      "cell_type": "code",
      "execution_count": null,
      "metadata": {
        "id": "1ePJ5DaVKXav",
        "outputId": "110523d0-5241-41b5-94e7-5d6b3857cc3d"
      },
      "outputs": [
        {
          "name": "stdout",
          "output_type": "stream",
          "text": [
            "item0 9\n"
          ]
        }
      ],
      "source": [
        "#see the class of the image\n",
        "print (\"item0\", y_train_full[0])"
      ]
    },
    {
      "cell_type": "code",
      "execution_count": null,
      "metadata": {
        "id": "z7h_-WzEKXaw"
      },
      "outputs": [],
      "source": [
        "#Slice the first samples from 55000 of the X_train_full store these samples in X_train.\n",
        "X_train = X_train_full[:55000]"
      ]
    },
    {
      "cell_type": "code",
      "execution_count": null,
      "metadata": {
        "id": "bei6HROuKXaw"
      },
      "outputs": [],
      "source": [
        "y_train = y_train_full[:55000]"
      ]
    },
    {
      "cell_type": "code",
      "execution_count": null,
      "metadata": {
        "id": "Jf8SoedUKXax"
      },
      "outputs": [],
      "source": [
        "#slice the remaining samples from the X_train_full and store these samples in X_valid\n",
        "X_valid = X_train_full[55000:]\n",
        "y_valid = y_train_full[55000:]"
      ]
    },
    {
      "cell_type": "code",
      "execution_count": null,
      "metadata": {
        "id": "9W_4QMgUKXax",
        "outputId": "3419b96a-f38e-49e2-b5aa-972af7cd75f4"
      },
      "outputs": [
        {
          "data": {
            "text/plain": [
              "(5000, 28, 28)"
            ]
          },
          "execution_count": 13,
          "metadata": {},
          "output_type": "execute_result"
        }
      ],
      "source": [
        "X_valid.shape"
      ]
    },
    {
      "cell_type": "code",
      "execution_count": null,
      "metadata": {
        "id": "J2w8CUuVKXay",
        "outputId": "4d2f0d76-24a6-4673-94d8-322ddd3bb19a"
      },
      "outputs": [
        {
          "name": "stdout",
          "output_type": "stream",
          "text": [
            "Train data shape: (55000, 28, 28)\n",
            "Validation data shape: (5000, 28, 28)\n",
            "Test data shape: (10000, 28, 28)\n"
          ]
        }
      ],
      "source": [
        "print(\"Train data shape:\",X_train.shape)\n",
        "print(\"Validation data shape:\",X_valid.shape)\n",
        "print(\"Test data shape:\",X_test.shape)"
      ]
    },
    {
      "cell_type": "code",
      "execution_count": null,
      "metadata": {
        "id": "ZryZVtQpKXa1"
      },
      "outputs": [],
      "source": [
        "a = np.array(\n",
        "[\n",
        "    [\n",
        "        [10,11],\n",
        "        [10,11]\n",
        "    ],\n",
        "    [\n",
        "        [20,21],\n",
        "        [20,21]\n",
        "    ],\n",
        "    [\n",
        "        [30,31],\n",
        "        [30,31]\n",
        "    ]\n",
        "]\n",
        ")"
      ]
    },
    {
      "cell_type": "code",
      "execution_count": null,
      "metadata": {
        "id": "wJw8basVKXa2",
        "outputId": "d8ac5767-c723-4ed9-d03b-6c2f45ab957d"
      },
      "outputs": [
        {
          "data": {
            "text/plain": [
              "(3, 2, 2)"
            ]
          },
          "execution_count": 16,
          "metadata": {},
          "output_type": "execute_result"
        }
      ],
      "source": [
        "a.shape"
      ]
    },
    {
      "cell_type": "code",
      "execution_count": null,
      "metadata": {
        "id": "FfaM_k65KXa2",
        "outputId": "d992cead-be03-4c13-f6a1-e62e1948d41d"
      },
      "outputs": [
        {
          "name": "stdout",
          "output_type": "stream",
          "text": [
            "20.5\n"
          ]
        }
      ],
      "source": [
        "print(a.mean())"
      ]
    },
    {
      "cell_type": "code",
      "execution_count": null,
      "metadata": {
        "id": "H_lPQ6N9KXa3",
        "outputId": "2e71031a-6fb3-4ea8-c382-ceda0841ea16"
      },
      "outputs": [
        {
          "name": "stdout",
          "output_type": "stream",
          "text": [
            "[[20. 21.]\n",
            " [20. 21.]]\n"
          ]
        }
      ],
      "source": [
        "print(a.mean(axis=0))"
      ]
    },
    {
      "cell_type": "code",
      "execution_count": null,
      "metadata": {
        "id": "SsBuufQsKXa3",
        "outputId": "2ed50d94-a015-404e-8d6b-bf8ce8845987"
      },
      "outputs": [
        {
          "name": "stdout",
          "output_type": "stream",
          "text": [
            "[[10. 11.]\n",
            " [20. 21.]\n",
            " [30. 31.]]\n"
          ]
        }
      ],
      "source": [
        "print(a.mean(axis=1))"
      ]
    },
    {
      "cell_type": "code",
      "execution_count": null,
      "metadata": {
        "id": "x4hbbCieKXa3",
        "outputId": "3f50c43c-c3f9-4649-c6a1-84400814836f"
      },
      "outputs": [
        {
          "name": "stdout",
          "output_type": "stream",
          "text": [
            "8.180260794538684\n"
          ]
        }
      ],
      "source": [
        "print(a.std())"
      ]
    },
    {
      "cell_type": "code",
      "execution_count": null,
      "metadata": {
        "id": "HDcmEtnrKXa3",
        "outputId": "97f4c585-3d94-4328-f997-486470928f7a"
      },
      "outputs": [
        {
          "name": "stdout",
          "output_type": "stream",
          "text": [
            "[[8.16496581 8.16496581]\n",
            " [8.16496581 8.16496581]]\n"
          ]
        }
      ],
      "source": [
        "print(a.std(axis=0))"
      ]
    },
    {
      "cell_type": "code",
      "execution_count": null,
      "metadata": {
        "id": "Ww5lA1hYKXa4",
        "outputId": "e387f2ac-ba00-489f-a14a-947ba527fba7"
      },
      "outputs": [
        {
          "name": "stdout",
          "output_type": "stream",
          "text": [
            "[[10. 11.]\n",
            " [20. 21.]\n",
            " [30. 31.]]\n"
          ]
        }
      ],
      "source": [
        "print(a.mean(axis=1))"
      ]
    },
    {
      "cell_type": "code",
      "execution_count": null,
      "metadata": {
        "id": "MF_eHDpgKXa4",
        "outputId": "715daa2c-b692-4bc1-d108-cbc46a0c5190"
      },
      "outputs": [
        {
          "data": {
            "text/plain": [
              "(55000, 28, 28)"
            ]
          },
          "execution_count": 23,
          "metadata": {},
          "output_type": "execute_result"
        }
      ],
      "source": [
        "X_train.shape"
      ]
    },
    {
      "cell_type": "code",
      "execution_count": null,
      "metadata": {
        "id": "wbuGAZnCKXa4",
        "outputId": "22ab291f-8760-4f65-959d-4de1731d7877"
      },
      "outputs": [
        {
          "name": "stdout",
          "output_type": "stream",
          "text": [
            "(28, 28)\n"
          ]
        }
      ],
      "source": [
        "#Get the mean\n",
        "X_mean = X_train.mean(axis=0)\n",
        "print(X_mean.shape)"
      ]
    },
    {
      "cell_type": "code",
      "execution_count": null,
      "metadata": {
        "id": "BVil3AgFKXa4",
        "outputId": "c928f7d9-1f98-417a-dad3-f2b3a69e9dd6"
      },
      "outputs": [
        {
          "name": "stdout",
          "output_type": "stream",
          "text": [
            "(28, 28)\n"
          ]
        }
      ],
      "source": [
        "X_std = X_train.std(axis=0)\n",
        "print(X_std.shape)"
      ]
    },
    {
      "cell_type": "code",
      "execution_count": null,
      "metadata": {
        "id": "DxqN84_-KXa4"
      },
      "outputs": [],
      "source": [
        "#Normalize\n",
        "X_train = (X_train - X_mean) / X_std"
      ]
    },
    {
      "cell_type": "code",
      "execution_count": null,
      "metadata": {
        "id": "sWY4moQUKXa4",
        "outputId": "a46f8631-14d6-4fc9-ffad-df81320b2a3d"
      },
      "outputs": [
        {
          "data": {
            "text/plain": [
              "(55000, 28, 28)"
            ]
          },
          "execution_count": 27,
          "metadata": {},
          "output_type": "execute_result"
        }
      ],
      "source": [
        "X_train.shape"
      ]
    },
    {
      "cell_type": "code",
      "execution_count": null,
      "metadata": {
        "id": "CTXdhjbvKXa5"
      },
      "outputs": [],
      "source": [
        "#normalize the X_valid\n",
        "X_valid = (X_valid - X_mean) / X_std"
      ]
    },
    {
      "cell_type": "code",
      "execution_count": null,
      "metadata": {
        "id": "3Gv-RFhvKXa5"
      },
      "outputs": [],
      "source": [
        "X_test = (X_test - X_mean) / X_std"
      ]
    },
    {
      "cell_type": "code",
      "execution_count": null,
      "metadata": {
        "id": "e9HbrQWpKXa5"
      },
      "outputs": [],
      "source": [
        "#convolutional layer --> increase the dimensionality so that everything will be one batch each\n",
        "#increase the dimensionality - using np.newaxis\n",
        "# Why?? This is the first layer of our classifier we are going to build later\n",
        "#expects the input to be 4 dimensional: (batch size, filters or channels, width, height)"
      ]
    },
    {
      "cell_type": "code",
      "execution_count": null,
      "metadata": {
        "id": "pvuLKV93KXa5"
      },
      "outputs": [],
      "source": [
        "X_train = X_train[:,:,:, np.newaxis]\n",
        "X_valid = X_valid[:,:, :, np.newaxis]\n",
        "X_test = X_test[:,:, :, np.newaxis]"
      ]
    },
    {
      "cell_type": "code",
      "execution_count": null,
      "metadata": {
        "id": "cHXqAe_HKXa6",
        "outputId": "d9bfd9d0-6aa4-4919-821a-380ae07e873e"
      },
      "outputs": [
        {
          "name": "stdout",
          "output_type": "stream",
          "text": [
            "Shape of features (55000, 28, 28, 1) (5000, 28, 28, 1) (10000, 28, 28, 1)\n"
          ]
        }
      ],
      "source": [
        "print (\"Shape of features\", X_train.shape, X_valid.shape, X_test.shape)"
      ]
    },
    {
      "cell_type": "code",
      "execution_count": null,
      "metadata": {
        "id": "rMC4FdGhKXa6"
      },
      "outputs": [],
      "source": [
        "# build a Convolutional Neural Network for this classification problem\n",
        "from functools import partial"
      ]
    },
    {
      "cell_type": "code",
      "execution_count": null,
      "metadata": {
        "id": "Hhx17xVPKXa6"
      },
      "outputs": [],
      "source": [
        "#Example of partial function from functools\n",
        "from functools import partial\n",
        "def func(a,b,c):\n",
        "    print(a+b+c)"
      ]
    },
    {
      "cell_type": "code",
      "execution_count": null,
      "metadata": {
        "id": "LiInE6-HKXa7"
      },
      "outputs": [],
      "source": [
        "new_func_1 = partial(func, a=1, c=2)"
      ]
    },
    {
      "cell_type": "code",
      "execution_count": null,
      "metadata": {
        "id": "ON78aNEnKXa7",
        "outputId": "7c064270-b966-4948-f99c-32b21e791cfc"
      },
      "outputs": [
        {
          "name": "stdout",
          "output_type": "stream",
          "text": [
            "6\n",
            "None\n"
          ]
        }
      ],
      "source": [
        "print(new_func_1(b=3))"
      ]
    },
    {
      "cell_type": "code",
      "execution_count": null,
      "metadata": {
        "id": "_qFbKUjaKXa7",
        "outputId": "29bc543e-8a4b-4c92-86a3-d493a2a7414d"
      },
      "outputs": [
        {
          "name": "stdout",
          "output_type": "stream",
          "text": [
            "5\n",
            "None\n"
          ]
        }
      ],
      "source": [
        "print(new_func_1(a=0, b=3))"
      ]
    },
    {
      "cell_type": "code",
      "execution_count": null,
      "metadata": {
        "id": "CfUYq935KXa8"
      },
      "outputs": [],
      "source": [
        "from functools import partial\n",
        "\n",
        "#Make the partial function named DefaultConv2D\n",
        "#pass some parameters to freeze\n",
        "DefaultConv2D  = partial(keras.layers.Conv2D,\n",
        "                kernel_size=3, activation='relu', padding=\"SAME\")"
      ]
    },
    {
      "cell_type": "code",
      "execution_count": null,
      "metadata": {
        "id": "qNT8MJGrKXa8"
      },
      "outputs": [],
      "source": [
        "#kernel_size changed to 7 ((which we initially freezer to be 3)\n",
        "# and other parameters\n",
        "model = keras.models.Sequential([\n",
        "    DefaultConv2D(filters=64, kernel_size=7, input_shape=[28, 28, 1]),\n",
        "    keras.layers.MaxPooling2D(pool_size=2),\n",
        "    DefaultConv2D(filters=128),\n",
        "    DefaultConv2D(filters=128),\n",
        "    keras.layers.MaxPooling2D(pool_size=2),\n",
        "    DefaultConv2D(filters=256),\n",
        "    DefaultConv2D(filters=256),\n",
        "    keras.layers.MaxPooling2D(pool_size=2),\n",
        "    keras.layers.Flatten(),\n",
        "    keras.layers.Dense(units=128, activation='relu'),\n",
        "    keras.layers.Dropout(0.5),\n",
        "    keras.layers.Dense(units=64, activation='relu'),\n",
        "    keras.layers.Dropout(0.5),\n",
        "    keras.layers.Dense(units=10, activation='softmax'),\n",
        "])"
      ]
    },
    {
      "cell_type": "code",
      "execution_count": null,
      "metadata": {
        "id": "REO97amSKXbB"
      },
      "outputs": [],
      "source": [
        "#compile the model\n",
        "model.compile(loss=\"sparse_categorical_crossentropy\", optimizer=\"nadam\", metrics=[\"accuracy\"])"
      ]
    },
    {
      "cell_type": "code",
      "execution_count": null,
      "metadata": {
        "id": "cgGNem2rKXbB",
        "outputId": "8c284497-3688-48ea-b598-636ebe0eeb01"
      },
      "outputs": [
        {
          "name": "stdout",
          "output_type": "stream",
          "text": [
            "Epoch 1/3\n",
            "1719/1719 [==============================] - 341s 197ms/step - loss: 0.7236 - accuracy: 0.7495 - val_loss: 0.3991 - val_accuracy: 0.8592\n",
            "Epoch 2/3\n",
            "1719/1719 [==============================] - 333s 194ms/step - loss: 0.4240 - accuracy: 0.8583 - val_loss: 0.3173 - val_accuracy: 0.8890\n",
            "Epoch 3/3\n",
            "1719/1719 [==============================] - 337s 196ms/step - loss: 0.3603 - accuracy: 0.8790 - val_loss: 0.2936 - val_accuracy: 0.8912\n"
          ]
        }
      ],
      "source": [
        "#start training on the train data & Use validation_data = (X_valid, y_valid).\n",
        "history = model.fit(X_train, y_train, epochs=3, validation_data=(X_valid, y_valid))"
      ]
    },
    {
      "cell_type": "code",
      "execution_count": null,
      "metadata": {
        "id": "ko2JdIsYKXbB"
      },
      "outputs": [],
      "source": [
        "#Evaluating the Model Performance"
      ]
    },
    {
      "cell_type": "code",
      "execution_count": null,
      "metadata": {
        "id": "ZpJVJQTfKXbB"
      },
      "outputs": [],
      "source": [
        "#Example\n",
        "a = np.array([[10, 11, 12],\n",
        "          [13, 14, 15]])"
      ]
    },
    {
      "cell_type": "code",
      "execution_count": null,
      "metadata": {
        "id": "Jb2QQbT6KXbC",
        "outputId": "fd7d86d2-a033-4804-fb9d-48c995ec2662"
      },
      "outputs": [
        {
          "data": {
            "text/plain": [
              "(2, 3)"
            ]
          },
          "execution_count": 51,
          "metadata": {},
          "output_type": "execute_result"
        }
      ],
      "source": [
        "a.shape"
      ]
    },
    {
      "cell_type": "code",
      "execution_count": null,
      "metadata": {
        "id": "BSMC6yLaKXbC",
        "outputId": "650f64b3-dfa2-4599-c307-00923ee91255"
      },
      "outputs": [
        {
          "data": {
            "text/plain": [
              "5"
            ]
          },
          "execution_count": 52,
          "metadata": {},
          "output_type": "execute_result"
        }
      ],
      "source": [
        "#Returns the indices of the maximum values along an axis.\n",
        "np.argmax(a)"
      ]
    },
    {
      "cell_type": "code",
      "execution_count": null,
      "metadata": {
        "id": "1KnLOxhYKXbC",
        "outputId": "decb4839-ff71-4971-cae4-cd94e3354fe1"
      },
      "outputs": [
        {
          "data": {
            "text/plain": [
              "array([1, 1, 1])"
            ]
          },
          "execution_count": 53,
          "metadata": {},
          "output_type": "execute_result"
        }
      ],
      "source": [
        "np.argmax(a, axis=0)"
      ]
    },
    {
      "cell_type": "code",
      "execution_count": null,
      "metadata": {
        "id": "HyaRMf1vKXbC",
        "outputId": "962e6645-0bce-4ece-e8d1-2faa573b460f"
      },
      "outputs": [
        {
          "data": {
            "text/plain": [
              "array([2, 2])"
            ]
          },
          "execution_count": 54,
          "metadata": {},
          "output_type": "execute_result"
        }
      ],
      "source": [
        "np.argmax(a, axis=1)"
      ]
    },
    {
      "cell_type": "code",
      "execution_count": null,
      "metadata": {
        "id": "vqK0_-xcKXbC",
        "outputId": "930a9ed9-07f0-41bd-d84d-41b5e42df3d7"
      },
      "outputs": [
        {
          "name": "stdout",
          "output_type": "stream",
          "text": [
            "313/313 [==============================] - 16s 53ms/step - loss: 0.3217 - accuracy: 0.8864\n"
          ]
        }
      ],
      "source": [
        "#test data prediction accuracy\n",
        "#Returns a list with the loss(at index 0) and accuracy(at index 1)\n",
        "results = model.evaluate(X_test, y_test)"
      ]
    },
    {
      "cell_type": "code",
      "execution_count": null,
      "metadata": {
        "id": "RpWD5WduKXbE",
        "outputId": "2d32e45b-565d-4759-a530-53fe9871417f"
      },
      "outputs": [
        {
          "name": "stdout",
          "output_type": "stream",
          "text": [
            "0.8863999843597412\n"
          ]
        }
      ],
      "source": [
        "#the accuracy on the test data\n",
        "print(results[1])"
      ]
    },
    {
      "cell_type": "code",
      "execution_count": null,
      "metadata": {
        "id": "QW1zOUF_KXbF"
      },
      "outputs": [],
      "source": [
        "#predictions of 9 of the test samples from index 10.\n",
        "X_new = X_test[10:19]"
      ]
    },
    {
      "cell_type": "code",
      "execution_count": null,
      "metadata": {
        "id": "kikMdFOyKXbF",
        "outputId": "86811ac1-0f34-4867-b333-9f292972bbf4"
      },
      "outputs": [
        {
          "data": {
            "text/plain": [
              "(9, 28, 28, 1)"
            ]
          },
          "execution_count": 60,
          "metadata": {},
          "output_type": "execute_result"
        }
      ],
      "source": [
        "X_new.shape"
      ]
    },
    {
      "cell_type": "code",
      "execution_count": null,
      "metadata": {
        "id": "2olLFZGTKXbF"
      },
      "outputs": [],
      "source": [
        "y_pred = model.predict(X_new)"
      ]
    },
    {
      "cell_type": "code",
      "execution_count": null,
      "metadata": {
        "id": "Fd1XtuRsKXbF",
        "outputId": "163c4ee9-a778-4896-aad0-635120b8b5ce"
      },
      "outputs": [
        {
          "data": {
            "text/plain": [
              "(9, 10)"
            ]
          },
          "execution_count": 62,
          "metadata": {},
          "output_type": "execute_result"
        }
      ],
      "source": [
        "y_pred.shape"
      ]
    },
    {
      "cell_type": "code",
      "execution_count": null,
      "metadata": {
        "id": "MMZBlckGKXbG",
        "outputId": "7fa7bc11-726a-46f3-d3a7-90e0df9f9f5f"
      },
      "outputs": [
        {
          "data": {
            "text/plain": [
              "array([9.0001822e-07, 5.0576369e-07, 1.5683521e-02, 4.7977055e-06,\n",
              "       9.0819561e-01, 4.0343852e-12, 7.6113969e-02, 8.2451315e-13,\n",
              "       6.7599120e-07, 1.0468368e-12], dtype=float32)"
            ]
          },
          "execution_count": 63,
          "metadata": {},
          "output_type": "execute_result"
        }
      ],
      "source": [
        "y_pred[0]"
      ]
    },
    {
      "cell_type": "code",
      "execution_count": null,
      "metadata": {
        "id": "XpSmE1l3KXbG",
        "outputId": "f63e7a31-6bee-4935-934f-bb9d042521d4"
      },
      "outputs": [
        {
          "name": "stdout",
          "output_type": "stream",
          "text": [
            "[4 5 7 3 4 1 2 4 8]\n"
          ]
        }
      ],
      "source": [
        "print(np.argmax(y_pred, axis=1))"
      ]
    },
    {
      "cell_type": "code",
      "execution_count": null,
      "metadata": {
        "id": "ydBdcVBBKXbH",
        "outputId": "edb55c6b-35ff-4ac2-a5ad-a804d50eccaa"
      },
      "outputs": [
        {
          "name": "stdout",
          "output_type": "stream",
          "text": [
            "[4 5 7 3 4 1 2 4 8 0]\n"
          ]
        }
      ],
      "source": [
        "print (y_test[10:20])"
      ]
    },
    {
      "cell_type": "code",
      "execution_count": null,
      "metadata": {
        "id": "W8tHjK-eKXbH"
      },
      "outputs": [],
      "source": []
    }
  ],
  "metadata": {
    "kernelspec": {
      "display_name": "tensorflow2",
      "language": "python",
      "name": "tensorflow2"
    },
    "language_info": {
      "codemirror_mode": {
        "name": "ipython",
        "version": 3
      },
      "file_extension": ".py",
      "mimetype": "text/x-python",
      "name": "python",
      "nbconvert_exporter": "python",
      "pygments_lexer": "ipython3",
      "version": "3.6.8"
    },
    "toc": {
      "base_numbering": 1,
      "nav_menu": {},
      "number_sections": true,
      "sideBar": true,
      "skip_h1_title": false,
      "title_cell": "Table of Contents",
      "title_sidebar": "Contents",
      "toc_cell": false,
      "toc_position": {},
      "toc_section_display": true,
      "toc_window_display": false
    },
    "colab": {
      "provenance": []
    }
  },
  "nbformat": 4,
  "nbformat_minor": 0
}