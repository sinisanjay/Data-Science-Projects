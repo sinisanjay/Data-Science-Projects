{
  "nbformat": 4,
  "nbformat_minor": 0,
  "metadata": {
    "colab": {
      "provenance": []
    },
    "kernelspec": {
      "name": "python3",
      "display_name": "Python 3"
    },
    "language_info": {
      "name": "python"
    }
  },
  "cells": [
    {
      "cell_type": "code",
      "source": [
        "import tensorflow as tf\n",
        "from tensorflow import keras"
      ],
      "metadata": {
        "id": "Si5Up3SQx0Wh"
      },
      "execution_count": null,
      "outputs": []
    },
    {
      "cell_type": "code",
      "execution_count": null,
      "metadata": {
        "colab": {
          "base_uri": "https://localhost:8080/"
        },
        "id": "LTIZIdA5xZ7P",
        "outputId": "79cef90f-160d-4c7f-e9d0-8169cbe9ac37"
      },
      "outputs": [
        {
          "output_type": "stream",
          "name": "stdout",
          "text": [
            "Colab only includes TensorFlow 2.x; %tensorflow_version has no effect.\n"
          ]
        }
      ],
      "source": [
        "# Python ≥3.5 is required\n",
        "import sys\n",
        "assert sys.version_info >= (3, 5)\n",
        "\n",
        "# Scikit-Learn ≥0.20 is required\n",
        "import sklearn\n",
        "assert sklearn.__version__ >= \"0.20\"\n",
        "\n",
        "try:\n",
        "    # %tensorflow_version only exists in Colab.\n",
        "    %tensorflow_version 2.x\n",
        "except Exception:\n",
        "    pass\n",
        "\n",
        "# TensorFlow ≥2.0 is required\n",
        "import tensorflow as tf\n",
        "assert tf.__version__ >= \"2.0\"\n",
        "\n",
        "# Common imports\n",
        "import numpy as np\n",
        "import os\n",
        "import pandas as pd\n",
        "\n",
        "# to make this notebook's output stable across runs\n",
        "np.random.seed(42)\n",
        "\n",
        "# To plot pretty figures\n",
        "%matplotlib inline\n",
        "import matplotlib as mpl\n",
        "import matplotlib.pyplot as plt\n",
        "mpl.rc('axes', labelsize=14)\n",
        "mpl.rc('xtick', labelsize=12)\n",
        "mpl.rc('ytick', labelsize=12)\n",
        "\n",
        "# Ignore useless warnings (see SciPy issue #5998)\n",
        "import warnings\n",
        "warnings.filterwarnings(action=\"ignore\", message=\"^internal gelsd\")"
      ]
    },
    {
      "cell_type": "code",
      "source": [
        "from sklearn.metrics import mean_squared_error\n",
        "from sklearn.model_selection import train_test_split"
      ],
      "metadata": {
        "id": "wshK7_1VyxMI"
      },
      "execution_count": null,
      "outputs": []
    },
    {
      "cell_type": "markdown",
      "source": [
        "#Load Dataset"
      ],
      "metadata": {
        "id": "a_cL8hXjyzY5"
      }
    },
    {
      "cell_type": "code",
      "source": [
        "#import dataset\n",
        "#file_dir = 'D:\\Sini-Project\\Datasets\\CalCOFI'\n",
        "file1='bottle.csv'\n",
        "file2 = 'cast.csv'\n",
        "file3 = 'small_bottle.csv'\n",
        "\n",
        "dataset = pd.read_csv(file1)\n",
        "print(dataset.shape)\n",
        "print(dataset.columns)"
      ],
      "metadata": {
        "colab": {
          "base_uri": "https://localhost:8080/"
        },
        "id": "lBTeVPrOy1sG",
        "outputId": "1bcc8625-aaf1-458c-e4cf-6fccea4f58f0"
      },
      "execution_count": null,
      "outputs": [
        {
          "output_type": "stream",
          "name": "stderr",
          "text": [
            "<ipython-input-4-d528c380b7ba>:7: DtypeWarning: Columns (47,73) have mixed types. Specify dtype option on import or set low_memory=False.\n",
            "  dataset = pd.read_csv(file1)\n"
          ]
        },
        {
          "output_type": "stream",
          "name": "stdout",
          "text": [
            "(864863, 74)\n",
            "Index(['Cst_Cnt', 'Btl_Cnt', 'Sta_ID', 'Depth_ID', 'Depthm', 'T_degC',\n",
            "       'Salnty', 'O2ml_L', 'STheta', 'O2Sat', 'Oxy_µmol/Kg', 'BtlNum',\n",
            "       'RecInd', 'T_prec', 'T_qual', 'S_prec', 'S_qual', 'P_qual', 'O_qual',\n",
            "       'SThtaq', 'O2Satq', 'ChlorA', 'Chlqua', 'Phaeop', 'Phaqua', 'PO4uM',\n",
            "       'PO4q', 'SiO3uM', 'SiO3qu', 'NO2uM', 'NO2q', 'NO3uM', 'NO3q', 'NH3uM',\n",
            "       'NH3q', 'C14As1', 'C14A1p', 'C14A1q', 'C14As2', 'C14A2p', 'C14A2q',\n",
            "       'DarkAs', 'DarkAp', 'DarkAq', 'MeanAs', 'MeanAp', 'MeanAq', 'IncTim',\n",
            "       'LightP', 'R_Depth', 'R_TEMP', 'R_POTEMP', 'R_SALINITY', 'R_SIGMA',\n",
            "       'R_SVA', 'R_DYNHT', 'R_O2', 'R_O2Sat', 'R_SIO3', 'R_PO4', 'R_NO3',\n",
            "       'R_NO2', 'R_NH4', 'R_CHLA', 'R_PHAEO', 'R_PRES', 'R_SAMP', 'DIC1',\n",
            "       'DIC2', 'TA1', 'TA2', 'pH2', 'pH1', 'DIC Quality Comment'],\n",
            "      dtype='object')\n"
          ]
        }
      ]
    },
    {
      "cell_type": "code",
      "source": [
        "print(dataset.head())"
      ],
      "metadata": {
        "colab": {
          "base_uri": "https://localhost:8080/"
        },
        "id": "eFTySyNQy6Av",
        "outputId": "37ff14c6-bc07-43bb-d17a-d273f705eac7"
      },
      "execution_count": null,
      "outputs": [
        {
          "output_type": "stream",
          "name": "stdout",
          "text": [
            "   Cst_Cnt  Btl_Cnt       Sta_ID                                Depth_ID  \\\n",
            "0        1        1  054.0 056.0  19-4903CR-HY-060-0930-05400560-0000A-3   \n",
            "1        1        2  054.0 056.0  19-4903CR-HY-060-0930-05400560-0008A-3   \n",
            "2        1        3  054.0 056.0  19-4903CR-HY-060-0930-05400560-0010A-7   \n",
            "3        1        4  054.0 056.0  19-4903CR-HY-060-0930-05400560-0019A-3   \n",
            "4        1        5  054.0 056.0  19-4903CR-HY-060-0930-05400560-0020A-7   \n",
            "\n",
            "   Depthm  T_degC  Salnty  O2ml_L  STheta  O2Sat  ...  R_PHAEO  R_PRES  \\\n",
            "0       0   10.50  33.440     NaN  25.649    NaN  ...      NaN       0   \n",
            "1       8   10.46  33.440     NaN  25.656    NaN  ...      NaN       8   \n",
            "2      10   10.46  33.437     NaN  25.654    NaN  ...      NaN      10   \n",
            "3      19   10.45  33.420     NaN  25.643    NaN  ...      NaN      19   \n",
            "4      20   10.45  33.421     NaN  25.643    NaN  ...      NaN      20   \n",
            "\n",
            "   R_SAMP  DIC1  DIC2  TA1  TA2  pH2  pH1  DIC Quality Comment  \n",
            "0     NaN   NaN   NaN  NaN  NaN  NaN  NaN                  NaN  \n",
            "1     NaN   NaN   NaN  NaN  NaN  NaN  NaN                  NaN  \n",
            "2     NaN   NaN   NaN  NaN  NaN  NaN  NaN                  NaN  \n",
            "3     NaN   NaN   NaN  NaN  NaN  NaN  NaN                  NaN  \n",
            "4     NaN   NaN   NaN  NaN  NaN  NaN  NaN                  NaN  \n",
            "\n",
            "[5 rows x 74 columns]\n"
          ]
        }
      ]
    },
    {
      "cell_type": "code",
      "source": [
        "dataset.info()"
      ],
      "metadata": {
        "colab": {
          "base_uri": "https://localhost:8080/"
        },
        "id": "z8uri0ixy6vX",
        "outputId": "c4e5eaf8-40a7-446d-f5e8-fdcc830d30dd"
      },
      "execution_count": null,
      "outputs": [
        {
          "output_type": "stream",
          "name": "stdout",
          "text": [
            "<class 'pandas.core.frame.DataFrame'>\n",
            "RangeIndex: 864863 entries, 0 to 864862\n",
            "Data columns (total 74 columns):\n",
            " #   Column               Non-Null Count   Dtype  \n",
            "---  ------               --------------   -----  \n",
            " 0   Cst_Cnt              864863 non-null  int64  \n",
            " 1   Btl_Cnt              864863 non-null  int64  \n",
            " 2   Sta_ID               864863 non-null  object \n",
            " 3   Depth_ID             864863 non-null  object \n",
            " 4   Depthm               864863 non-null  int64  \n",
            " 5   T_degC               853900 non-null  float64\n",
            " 6   Salnty               817509 non-null  float64\n",
            " 7   O2ml_L               696201 non-null  float64\n",
            " 8   STheta               812174 non-null  float64\n",
            " 9   O2Sat                661274 non-null  float64\n",
            " 10  Oxy_µmol/Kg          661268 non-null  float64\n",
            " 11  BtlNum               118667 non-null  float64\n",
            " 12  RecInd               864863 non-null  int64  \n",
            " 13  T_prec               853900 non-null  float64\n",
            " 14  T_qual               23127 non-null   float64\n",
            " 15  S_prec               817509 non-null  float64\n",
            " 16  S_qual               74914 non-null   float64\n",
            " 17  P_qual               673755 non-null  float64\n",
            " 18  O_qual               184676 non-null  float64\n",
            " 19  SThtaq               65823 non-null   float64\n",
            " 20  O2Satq               217797 non-null  float64\n",
            " 21  ChlorA               225272 non-null  float64\n",
            " 22  Chlqua               639166 non-null  float64\n",
            " 23  Phaeop               225271 non-null  float64\n",
            " 24  Phaqua               639170 non-null  float64\n",
            " 25  PO4uM                413317 non-null  float64\n",
            " 26  PO4q                 451786 non-null  float64\n",
            " 27  SiO3uM               354091 non-null  float64\n",
            " 28  SiO3qu               510866 non-null  float64\n",
            " 29  NO2uM                337576 non-null  float64\n",
            " 30  NO2q                 529474 non-null  float64\n",
            " 31  NO3uM                337403 non-null  float64\n",
            " 32  NO3q                 529933 non-null  float64\n",
            " 33  NH3uM                64962 non-null   float64\n",
            " 34  NH3q                 808299 non-null  float64\n",
            " 35  C14As1               14432 non-null   float64\n",
            " 36  C14A1p               12760 non-null   float64\n",
            " 37  C14A1q               848605 non-null  float64\n",
            " 38  C14As2               14414 non-null   float64\n",
            " 39  C14A2p               12742 non-null   float64\n",
            " 40  C14A2q               848623 non-null  float64\n",
            " 41  DarkAs               22649 non-null   float64\n",
            " 42  DarkAp               20457 non-null   float64\n",
            " 43  DarkAq               840440 non-null  float64\n",
            " 44  MeanAs               22650 non-null   float64\n",
            " 45  MeanAp               20457 non-null   float64\n",
            " 46  MeanAq               840439 non-null  float64\n",
            " 47  IncTim               14437 non-null   object \n",
            " 48  LightP               18651 non-null   float64\n",
            " 49  R_Depth              864863 non-null  float64\n",
            " 50  R_TEMP               853900 non-null  float64\n",
            " 51  R_POTEMP             818816 non-null  float64\n",
            " 52  R_SALINITY           817509 non-null  float64\n",
            " 53  R_SIGMA              812007 non-null  float64\n",
            " 54  R_SVA                812092 non-null  float64\n",
            " 55  R_DYNHT              818206 non-null  float64\n",
            " 56  R_O2                 696201 non-null  float64\n",
            " 57  R_O2Sat              666448 non-null  float64\n",
            " 58  R_SIO3               354099 non-null  float64\n",
            " 59  R_PO4                413325 non-null  float64\n",
            " 60  R_NO3                337411 non-null  float64\n",
            " 61  R_NO2                337584 non-null  float64\n",
            " 62  R_NH4                64982 non-null   float64\n",
            " 63  R_CHLA               225276 non-null  float64\n",
            " 64  R_PHAEO              225275 non-null  float64\n",
            " 65  R_PRES               864863 non-null  int64  \n",
            " 66  R_SAMP               122006 non-null  float64\n",
            " 67  DIC1                 1999 non-null    float64\n",
            " 68  DIC2                 224 non-null     float64\n",
            " 69  TA1                  2084 non-null    float64\n",
            " 70  TA2                  234 non-null     float64\n",
            " 71  pH2                  10 non-null      float64\n",
            " 72  pH1                  84 non-null      float64\n",
            " 73  DIC Quality Comment  55 non-null      object \n",
            "dtypes: float64(65), int64(5), object(4)\n",
            "memory usage: 488.3+ MB\n"
          ]
        }
      ]
    },
    {
      "cell_type": "code",
      "source": [
        "dataset.describe()"
      ],
      "metadata": {
        "colab": {
          "base_uri": "https://localhost:8080/",
          "height": 350
        },
        "id": "9E2IfRu0y-w_",
        "outputId": "642c32af-f9dc-488a-f0eb-92284b6380da"
      },
      "execution_count": null,
      "outputs": [
        {
          "output_type": "execute_result",
          "data": {
            "text/plain": [
              "             Cst_Cnt        Btl_Cnt         Depthm         T_degC  \\\n",
              "count  864863.000000  864863.000000  864863.000000  853900.000000   \n",
              "mean    17138.790958  432432.000000     226.831951      10.799677   \n",
              "std     10240.949817  249664.587269     316.050259       4.243825   \n",
              "min         1.000000       1.000000       0.000000       1.440000   \n",
              "25%      8269.000000  216216.500000      46.000000       7.680000   \n",
              "50%     16848.000000  432432.000000     125.000000      10.060000   \n",
              "75%     26557.000000  648647.500000     300.000000      13.880000   \n",
              "max     34404.000000  864863.000000    5351.000000      31.140000   \n",
              "\n",
              "              Salnty         O2ml_L         STheta          O2Sat  \\\n",
              "count  817509.000000  696201.000000  812174.000000  661274.000000   \n",
              "mean       33.840350       3.392468      25.819394      57.103779   \n",
              "std         0.461843       2.073256       1.167787      37.094137   \n",
              "min        28.431000      -0.010000      20.934000      -0.100000   \n",
              "25%        33.488000       1.360000      24.965000      21.100000   \n",
              "50%        33.863000       3.440000      25.996000      54.400000   \n",
              "75%        34.196900       5.500000      26.646000      97.600000   \n",
              "max        37.034000      11.130000     250.784000     214.100000   \n",
              "\n",
              "         Oxy_µmol/Kg         BtlNum  ...         R_CHLA        R_PHAEO  \\\n",
              "count  661268.000000  118667.000000  ...  225276.000000  225275.000000   \n",
              "mean      148.808694      10.497426  ...       0.450225       0.198599   \n",
              "std        90.187533       6.189688  ...       1.208566       0.376539   \n",
              "min        -0.434900       0.000000  ...      -0.010000      -3.890000   \n",
              "25%        60.915470       5.000000  ...       0.050000       0.050000   \n",
              "50%       151.064150      10.000000  ...       0.160000       0.110000   \n",
              "75%       240.379600      16.000000  ...       0.390000       0.230000   \n",
              "max       485.701800      25.000000  ...      66.110000      65.300000   \n",
              "\n",
              "              R_PRES         R_SAMP         DIC1         DIC2          TA1  \\\n",
              "count  864863.000000  122006.000000  1999.000000   224.000000  2084.000000   \n",
              "mean      228.395694     162.071521  2153.239714  2168.148330  2256.055845   \n",
              "std       319.456731      85.722796   112.995202   154.852332    34.844435   \n",
              "min         0.000000       0.000000  1948.850000  1969.440000  2181.570000   \n",
              "25%        46.000000     200.000000  2028.330000  2008.977500  2230.322500   \n",
              "50%       126.000000     206.000000  2170.640000  2265.885000  2244.325000   \n",
              "75%       302.000000     214.000000  2253.810000  2315.525000  2278.505000   \n",
              "max      5458.000000     424.000000  2367.800000  2364.420000  2434.900000   \n",
              "\n",
              "               TA2        pH2        pH1  \n",
              "count   234.000000  10.000000  84.000000  \n",
              "mean   2278.858803   7.948570   7.910983  \n",
              "std      58.496495   0.021216   0.077666  \n",
              "min    2198.150000   7.923100   7.618300  \n",
              "25%    2229.062500   7.931475   7.898675  \n",
              "50%    2247.505000   7.946650   7.928850  \n",
              "75%    2316.452500   7.963300   7.955100  \n",
              "max    2437.000000   7.988300   8.047700  \n",
              "\n",
              "[8 rows x 70 columns]"
            ],
            "text/html": [
              "\n",
              "  <div id=\"df-c6813853-ccbb-486c-8382-91605dd0b3cc\" class=\"colab-df-container\">\n",
              "    <div>\n",
              "<style scoped>\n",
              "    .dataframe tbody tr th:only-of-type {\n",
              "        vertical-align: middle;\n",
              "    }\n",
              "\n",
              "    .dataframe tbody tr th {\n",
              "        vertical-align: top;\n",
              "    }\n",
              "\n",
              "    .dataframe thead th {\n",
              "        text-align: right;\n",
              "    }\n",
              "</style>\n",
              "<table border=\"1\" class=\"dataframe\">\n",
              "  <thead>\n",
              "    <tr style=\"text-align: right;\">\n",
              "      <th></th>\n",
              "      <th>Cst_Cnt</th>\n",
              "      <th>Btl_Cnt</th>\n",
              "      <th>Depthm</th>\n",
              "      <th>T_degC</th>\n",
              "      <th>Salnty</th>\n",
              "      <th>O2ml_L</th>\n",
              "      <th>STheta</th>\n",
              "      <th>O2Sat</th>\n",
              "      <th>Oxy_µmol/Kg</th>\n",
              "      <th>BtlNum</th>\n",
              "      <th>...</th>\n",
              "      <th>R_CHLA</th>\n",
              "      <th>R_PHAEO</th>\n",
              "      <th>R_PRES</th>\n",
              "      <th>R_SAMP</th>\n",
              "      <th>DIC1</th>\n",
              "      <th>DIC2</th>\n",
              "      <th>TA1</th>\n",
              "      <th>TA2</th>\n",
              "      <th>pH2</th>\n",
              "      <th>pH1</th>\n",
              "    </tr>\n",
              "  </thead>\n",
              "  <tbody>\n",
              "    <tr>\n",
              "      <th>count</th>\n",
              "      <td>864863.000000</td>\n",
              "      <td>864863.000000</td>\n",
              "      <td>864863.000000</td>\n",
              "      <td>853900.000000</td>\n",
              "      <td>817509.000000</td>\n",
              "      <td>696201.000000</td>\n",
              "      <td>812174.000000</td>\n",
              "      <td>661274.000000</td>\n",
              "      <td>661268.000000</td>\n",
              "      <td>118667.000000</td>\n",
              "      <td>...</td>\n",
              "      <td>225276.000000</td>\n",
              "      <td>225275.000000</td>\n",
              "      <td>864863.000000</td>\n",
              "      <td>122006.000000</td>\n",
              "      <td>1999.000000</td>\n",
              "      <td>224.000000</td>\n",
              "      <td>2084.000000</td>\n",
              "      <td>234.000000</td>\n",
              "      <td>10.000000</td>\n",
              "      <td>84.000000</td>\n",
              "    </tr>\n",
              "    <tr>\n",
              "      <th>mean</th>\n",
              "      <td>17138.790958</td>\n",
              "      <td>432432.000000</td>\n",
              "      <td>226.831951</td>\n",
              "      <td>10.799677</td>\n",
              "      <td>33.840350</td>\n",
              "      <td>3.392468</td>\n",
              "      <td>25.819394</td>\n",
              "      <td>57.103779</td>\n",
              "      <td>148.808694</td>\n",
              "      <td>10.497426</td>\n",
              "      <td>...</td>\n",
              "      <td>0.450225</td>\n",
              "      <td>0.198599</td>\n",
              "      <td>228.395694</td>\n",
              "      <td>162.071521</td>\n",
              "      <td>2153.239714</td>\n",
              "      <td>2168.148330</td>\n",
              "      <td>2256.055845</td>\n",
              "      <td>2278.858803</td>\n",
              "      <td>7.948570</td>\n",
              "      <td>7.910983</td>\n",
              "    </tr>\n",
              "    <tr>\n",
              "      <th>std</th>\n",
              "      <td>10240.949817</td>\n",
              "      <td>249664.587269</td>\n",
              "      <td>316.050259</td>\n",
              "      <td>4.243825</td>\n",
              "      <td>0.461843</td>\n",
              "      <td>2.073256</td>\n",
              "      <td>1.167787</td>\n",
              "      <td>37.094137</td>\n",
              "      <td>90.187533</td>\n",
              "      <td>6.189688</td>\n",
              "      <td>...</td>\n",
              "      <td>1.208566</td>\n",
              "      <td>0.376539</td>\n",
              "      <td>319.456731</td>\n",
              "      <td>85.722796</td>\n",
              "      <td>112.995202</td>\n",
              "      <td>154.852332</td>\n",
              "      <td>34.844435</td>\n",
              "      <td>58.496495</td>\n",
              "      <td>0.021216</td>\n",
              "      <td>0.077666</td>\n",
              "    </tr>\n",
              "    <tr>\n",
              "      <th>min</th>\n",
              "      <td>1.000000</td>\n",
              "      <td>1.000000</td>\n",
              "      <td>0.000000</td>\n",
              "      <td>1.440000</td>\n",
              "      <td>28.431000</td>\n",
              "      <td>-0.010000</td>\n",
              "      <td>20.934000</td>\n",
              "      <td>-0.100000</td>\n",
              "      <td>-0.434900</td>\n",
              "      <td>0.000000</td>\n",
              "      <td>...</td>\n",
              "      <td>-0.010000</td>\n",
              "      <td>-3.890000</td>\n",
              "      <td>0.000000</td>\n",
              "      <td>0.000000</td>\n",
              "      <td>1948.850000</td>\n",
              "      <td>1969.440000</td>\n",
              "      <td>2181.570000</td>\n",
              "      <td>2198.150000</td>\n",
              "      <td>7.923100</td>\n",
              "      <td>7.618300</td>\n",
              "    </tr>\n",
              "    <tr>\n",
              "      <th>25%</th>\n",
              "      <td>8269.000000</td>\n",
              "      <td>216216.500000</td>\n",
              "      <td>46.000000</td>\n",
              "      <td>7.680000</td>\n",
              "      <td>33.488000</td>\n",
              "      <td>1.360000</td>\n",
              "      <td>24.965000</td>\n",
              "      <td>21.100000</td>\n",
              "      <td>60.915470</td>\n",
              "      <td>5.000000</td>\n",
              "      <td>...</td>\n",
              "      <td>0.050000</td>\n",
              "      <td>0.050000</td>\n",
              "      <td>46.000000</td>\n",
              "      <td>200.000000</td>\n",
              "      <td>2028.330000</td>\n",
              "      <td>2008.977500</td>\n",
              "      <td>2230.322500</td>\n",
              "      <td>2229.062500</td>\n",
              "      <td>7.931475</td>\n",
              "      <td>7.898675</td>\n",
              "    </tr>\n",
              "    <tr>\n",
              "      <th>50%</th>\n",
              "      <td>16848.000000</td>\n",
              "      <td>432432.000000</td>\n",
              "      <td>125.000000</td>\n",
              "      <td>10.060000</td>\n",
              "      <td>33.863000</td>\n",
              "      <td>3.440000</td>\n",
              "      <td>25.996000</td>\n",
              "      <td>54.400000</td>\n",
              "      <td>151.064150</td>\n",
              "      <td>10.000000</td>\n",
              "      <td>...</td>\n",
              "      <td>0.160000</td>\n",
              "      <td>0.110000</td>\n",
              "      <td>126.000000</td>\n",
              "      <td>206.000000</td>\n",
              "      <td>2170.640000</td>\n",
              "      <td>2265.885000</td>\n",
              "      <td>2244.325000</td>\n",
              "      <td>2247.505000</td>\n",
              "      <td>7.946650</td>\n",
              "      <td>7.928850</td>\n",
              "    </tr>\n",
              "    <tr>\n",
              "      <th>75%</th>\n",
              "      <td>26557.000000</td>\n",
              "      <td>648647.500000</td>\n",
              "      <td>300.000000</td>\n",
              "      <td>13.880000</td>\n",
              "      <td>34.196900</td>\n",
              "      <td>5.500000</td>\n",
              "      <td>26.646000</td>\n",
              "      <td>97.600000</td>\n",
              "      <td>240.379600</td>\n",
              "      <td>16.000000</td>\n",
              "      <td>...</td>\n",
              "      <td>0.390000</td>\n",
              "      <td>0.230000</td>\n",
              "      <td>302.000000</td>\n",
              "      <td>214.000000</td>\n",
              "      <td>2253.810000</td>\n",
              "      <td>2315.525000</td>\n",
              "      <td>2278.505000</td>\n",
              "      <td>2316.452500</td>\n",
              "      <td>7.963300</td>\n",
              "      <td>7.955100</td>\n",
              "    </tr>\n",
              "    <tr>\n",
              "      <th>max</th>\n",
              "      <td>34404.000000</td>\n",
              "      <td>864863.000000</td>\n",
              "      <td>5351.000000</td>\n",
              "      <td>31.140000</td>\n",
              "      <td>37.034000</td>\n",
              "      <td>11.130000</td>\n",
              "      <td>250.784000</td>\n",
              "      <td>214.100000</td>\n",
              "      <td>485.701800</td>\n",
              "      <td>25.000000</td>\n",
              "      <td>...</td>\n",
              "      <td>66.110000</td>\n",
              "      <td>65.300000</td>\n",
              "      <td>5458.000000</td>\n",
              "      <td>424.000000</td>\n",
              "      <td>2367.800000</td>\n",
              "      <td>2364.420000</td>\n",
              "      <td>2434.900000</td>\n",
              "      <td>2437.000000</td>\n",
              "      <td>7.988300</td>\n",
              "      <td>8.047700</td>\n",
              "    </tr>\n",
              "  </tbody>\n",
              "</table>\n",
              "<p>8 rows × 70 columns</p>\n",
              "</div>\n",
              "    <div class=\"colab-df-buttons\">\n",
              "\n",
              "  <div class=\"colab-df-container\">\n",
              "    <button class=\"colab-df-convert\" onclick=\"convertToInteractive('df-c6813853-ccbb-486c-8382-91605dd0b3cc')\"\n",
              "            title=\"Convert this dataframe to an interactive table.\"\n",
              "            style=\"display:none;\">\n",
              "\n",
              "  <svg xmlns=\"http://www.w3.org/2000/svg\" height=\"24px\" viewBox=\"0 -960 960 960\">\n",
              "    <path d=\"M120-120v-720h720v720H120Zm60-500h600v-160H180v160Zm220 220h160v-160H400v160Zm0 220h160v-160H400v160ZM180-400h160v-160H180v160Zm440 0h160v-160H620v160ZM180-180h160v-160H180v160Zm440 0h160v-160H620v160Z\"/>\n",
              "  </svg>\n",
              "    </button>\n",
              "\n",
              "  <style>\n",
              "    .colab-df-container {\n",
              "      display:flex;\n",
              "      gap: 12px;\n",
              "    }\n",
              "\n",
              "    .colab-df-convert {\n",
              "      background-color: #E8F0FE;\n",
              "      border: none;\n",
              "      border-radius: 50%;\n",
              "      cursor: pointer;\n",
              "      display: none;\n",
              "      fill: #1967D2;\n",
              "      height: 32px;\n",
              "      padding: 0 0 0 0;\n",
              "      width: 32px;\n",
              "    }\n",
              "\n",
              "    .colab-df-convert:hover {\n",
              "      background-color: #E2EBFA;\n",
              "      box-shadow: 0px 1px 2px rgba(60, 64, 67, 0.3), 0px 1px 3px 1px rgba(60, 64, 67, 0.15);\n",
              "      fill: #174EA6;\n",
              "    }\n",
              "\n",
              "    .colab-df-buttons div {\n",
              "      margin-bottom: 4px;\n",
              "    }\n",
              "\n",
              "    [theme=dark] .colab-df-convert {\n",
              "      background-color: #3B4455;\n",
              "      fill: #D2E3FC;\n",
              "    }\n",
              "\n",
              "    [theme=dark] .colab-df-convert:hover {\n",
              "      background-color: #434B5C;\n",
              "      box-shadow: 0px 1px 3px 1px rgba(0, 0, 0, 0.15);\n",
              "      filter: drop-shadow(0px 1px 2px rgba(0, 0, 0, 0.3));\n",
              "      fill: #FFFFFF;\n",
              "    }\n",
              "  </style>\n",
              "\n",
              "    <script>\n",
              "      const buttonEl =\n",
              "        document.querySelector('#df-c6813853-ccbb-486c-8382-91605dd0b3cc button.colab-df-convert');\n",
              "      buttonEl.style.display =\n",
              "        google.colab.kernel.accessAllowed ? 'block' : 'none';\n",
              "\n",
              "      async function convertToInteractive(key) {\n",
              "        const element = document.querySelector('#df-c6813853-ccbb-486c-8382-91605dd0b3cc');\n",
              "        const dataTable =\n",
              "          await google.colab.kernel.invokeFunction('convertToInteractive',\n",
              "                                                    [key], {});\n",
              "        if (!dataTable) return;\n",
              "\n",
              "        const docLinkHtml = 'Like what you see? Visit the ' +\n",
              "          '<a target=\"_blank\" href=https://colab.research.google.com/notebooks/data_table.ipynb>data table notebook</a>'\n",
              "          + ' to learn more about interactive tables.';\n",
              "        element.innerHTML = '';\n",
              "        dataTable['output_type'] = 'display_data';\n",
              "        await google.colab.output.renderOutput(dataTable, element);\n",
              "        const docLink = document.createElement('div');\n",
              "        docLink.innerHTML = docLinkHtml;\n",
              "        element.appendChild(docLink);\n",
              "      }\n",
              "    </script>\n",
              "  </div>\n",
              "\n",
              "\n",
              "<div id=\"df-124f09a3-ea1c-428b-814d-d421c6afdf73\">\n",
              "  <button class=\"colab-df-quickchart\" onclick=\"quickchart('df-124f09a3-ea1c-428b-814d-d421c6afdf73')\"\n",
              "            title=\"Suggest charts\"\n",
              "            style=\"display:none;\">\n",
              "\n",
              "<svg xmlns=\"http://www.w3.org/2000/svg\" height=\"24px\"viewBox=\"0 0 24 24\"\n",
              "     width=\"24px\">\n",
              "    <g>\n",
              "        <path d=\"M19 3H5c-1.1 0-2 .9-2 2v14c0 1.1.9 2 2 2h14c1.1 0 2-.9 2-2V5c0-1.1-.9-2-2-2zM9 17H7v-7h2v7zm4 0h-2V7h2v10zm4 0h-2v-4h2v4z\"/>\n",
              "    </g>\n",
              "</svg>\n",
              "  </button>\n",
              "\n",
              "<style>\n",
              "  .colab-df-quickchart {\n",
              "      --bg-color: #E8F0FE;\n",
              "      --fill-color: #1967D2;\n",
              "      --hover-bg-color: #E2EBFA;\n",
              "      --hover-fill-color: #174EA6;\n",
              "      --disabled-fill-color: #AAA;\n",
              "      --disabled-bg-color: #DDD;\n",
              "  }\n",
              "\n",
              "  [theme=dark] .colab-df-quickchart {\n",
              "      --bg-color: #3B4455;\n",
              "      --fill-color: #D2E3FC;\n",
              "      --hover-bg-color: #434B5C;\n",
              "      --hover-fill-color: #FFFFFF;\n",
              "      --disabled-bg-color: #3B4455;\n",
              "      --disabled-fill-color: #666;\n",
              "  }\n",
              "\n",
              "  .colab-df-quickchart {\n",
              "    background-color: var(--bg-color);\n",
              "    border: none;\n",
              "    border-radius: 50%;\n",
              "    cursor: pointer;\n",
              "    display: none;\n",
              "    fill: var(--fill-color);\n",
              "    height: 32px;\n",
              "    padding: 0;\n",
              "    width: 32px;\n",
              "  }\n",
              "\n",
              "  .colab-df-quickchart:hover {\n",
              "    background-color: var(--hover-bg-color);\n",
              "    box-shadow: 0 1px 2px rgba(60, 64, 67, 0.3), 0 1px 3px 1px rgba(60, 64, 67, 0.15);\n",
              "    fill: var(--button-hover-fill-color);\n",
              "  }\n",
              "\n",
              "  .colab-df-quickchart-complete:disabled,\n",
              "  .colab-df-quickchart-complete:disabled:hover {\n",
              "    background-color: var(--disabled-bg-color);\n",
              "    fill: var(--disabled-fill-color);\n",
              "    box-shadow: none;\n",
              "  }\n",
              "\n",
              "  .colab-df-spinner {\n",
              "    border: 2px solid var(--fill-color);\n",
              "    border-color: transparent;\n",
              "    border-bottom-color: var(--fill-color);\n",
              "    animation:\n",
              "      spin 1s steps(1) infinite;\n",
              "  }\n",
              "\n",
              "  @keyframes spin {\n",
              "    0% {\n",
              "      border-color: transparent;\n",
              "      border-bottom-color: var(--fill-color);\n",
              "      border-left-color: var(--fill-color);\n",
              "    }\n",
              "    20% {\n",
              "      border-color: transparent;\n",
              "      border-left-color: var(--fill-color);\n",
              "      border-top-color: var(--fill-color);\n",
              "    }\n",
              "    30% {\n",
              "      border-color: transparent;\n",
              "      border-left-color: var(--fill-color);\n",
              "      border-top-color: var(--fill-color);\n",
              "      border-right-color: var(--fill-color);\n",
              "    }\n",
              "    40% {\n",
              "      border-color: transparent;\n",
              "      border-right-color: var(--fill-color);\n",
              "      border-top-color: var(--fill-color);\n",
              "    }\n",
              "    60% {\n",
              "      border-color: transparent;\n",
              "      border-right-color: var(--fill-color);\n",
              "    }\n",
              "    80% {\n",
              "      border-color: transparent;\n",
              "      border-right-color: var(--fill-color);\n",
              "      border-bottom-color: var(--fill-color);\n",
              "    }\n",
              "    90% {\n",
              "      border-color: transparent;\n",
              "      border-bottom-color: var(--fill-color);\n",
              "    }\n",
              "  }\n",
              "</style>\n",
              "\n",
              "  <script>\n",
              "    async function quickchart(key) {\n",
              "      const quickchartButtonEl =\n",
              "        document.querySelector('#' + key + ' button');\n",
              "      quickchartButtonEl.disabled = true;  // To prevent multiple clicks.\n",
              "      quickchartButtonEl.classList.add('colab-df-spinner');\n",
              "      try {\n",
              "        const charts = await google.colab.kernel.invokeFunction(\n",
              "            'suggestCharts', [key], {});\n",
              "      } catch (error) {\n",
              "        console.error('Error during call to suggestCharts:', error);\n",
              "      }\n",
              "      quickchartButtonEl.classList.remove('colab-df-spinner');\n",
              "      quickchartButtonEl.classList.add('colab-df-quickchart-complete');\n",
              "    }\n",
              "    (() => {\n",
              "      let quickchartButtonEl =\n",
              "        document.querySelector('#df-124f09a3-ea1c-428b-814d-d421c6afdf73 button');\n",
              "      quickchartButtonEl.style.display =\n",
              "        google.colab.kernel.accessAllowed ? 'block' : 'none';\n",
              "    })();\n",
              "  </script>\n",
              "</div>\n",
              "\n",
              "    </div>\n",
              "  </div>\n"
            ],
            "application/vnd.google.colaboratory.intrinsic+json": {
              "type": "dataframe"
            }
          },
          "metadata": {},
          "execution_count": 11
        }
      ]
    },
    {
      "cell_type": "markdown",
      "source": [
        "#Train Test Split"
      ],
      "metadata": {
        "id": "eOk9G6j_zBu3"
      }
    },
    {
      "cell_type": "code",
      "source": [
        "from sklearn.model_selection import train_test_split\n",
        "train_orig_set, test_orig_set = train_test_split(dataset, test_size=0.2)\n",
        "print(train_orig_set.shape)\n",
        "print(test_orig_set.shape)"
      ],
      "metadata": {
        "colab": {
          "base_uri": "https://localhost:8080/"
        },
        "id": "RBJmrxRGzAmI",
        "outputId": "2d83d0b4-ebbe-41cf-84e3-3025010385a9"
      },
      "execution_count": null,
      "outputs": [
        {
          "output_type": "stream",
          "name": "stdout",
          "text": [
            "(691890, 74)\n",
            "(172973, 74)\n"
          ]
        }
      ]
    },
    {
      "cell_type": "markdown",
      "source": [
        "Prepare Data"
      ],
      "metadata": {
        "id": "Wco5QJBMzH0v"
      }
    },
    {
      "cell_type": "code",
      "source": [
        "train_set = train_orig_set.loc[~train_orig_set['R_TEMP'].isna()]\n",
        "print(train_set.shape)"
      ],
      "metadata": {
        "colab": {
          "base_uri": "https://localhost:8080/"
        },
        "id": "fhQBwfdWzKN_",
        "outputId": "0cc98184-9f14-4b41-e1c5-cc7399663a55"
      },
      "execution_count": null,
      "outputs": [
        {
          "output_type": "stream",
          "name": "stdout",
          "text": [
            "(683223, 74)\n"
          ]
        }
      ]
    },
    {
      "cell_type": "code",
      "source": [
        "test_set = test_orig_set.loc[~test_orig_set['R_TEMP'].isna()]"
      ],
      "metadata": {
        "id": "tPmfVX531zOd"
      },
      "execution_count": null,
      "outputs": []
    },
    {
      "cell_type": "code",
      "source": [
        "drop_attributes = ['Cst_Cnt','Btl_Cnt','Sta_ID', 'Depth_ID', 'BtlNum', 'IncTim', 'DIC Quality Comment']\n",
        "cat_attributes =['RecInd']"
      ],
      "metadata": {
        "id": "YN8f9G0C157F"
      },
      "execution_count": null,
      "outputs": []
    },
    {
      "cell_type": "code",
      "source": [
        "X_train_full = train_set.drop(['T_degC', 'R_TEMP','T_prec','T_qual','R_POTEMP'], axis=1)\n",
        "X_train_full = X_train_full.drop(drop_attributes, axis=1)\n",
        "X_train_full.columns"
      ],
      "metadata": {
        "colab": {
          "base_uri": "https://localhost:8080/"
        },
        "id": "p7Z03I1p171-",
        "outputId": "68996c55-90d3-4580-ea10-f0ec0903b18c"
      },
      "execution_count": null,
      "outputs": [
        {
          "output_type": "execute_result",
          "data": {
            "text/plain": [
              "Index(['Depthm', 'Salnty', 'O2ml_L', 'STheta', 'O2Sat', 'Oxy_µmol/Kg',\n",
              "       'RecInd', 'S_prec', 'S_qual', 'P_qual', 'O_qual', 'SThtaq', 'O2Satq',\n",
              "       'ChlorA', 'Chlqua', 'Phaeop', 'Phaqua', 'PO4uM', 'PO4q', 'SiO3uM',\n",
              "       'SiO3qu', 'NO2uM', 'NO2q', 'NO3uM', 'NO3q', 'NH3uM', 'NH3q', 'C14As1',\n",
              "       'C14A1p', 'C14A1q', 'C14As2', 'C14A2p', 'C14A2q', 'DarkAs', 'DarkAp',\n",
              "       'DarkAq', 'MeanAs', 'MeanAp', 'MeanAq', 'LightP', 'R_Depth',\n",
              "       'R_SALINITY', 'R_SIGMA', 'R_SVA', 'R_DYNHT', 'R_O2', 'R_O2Sat',\n",
              "       'R_SIO3', 'R_PO4', 'R_NO3', 'R_NO2', 'R_NH4', 'R_CHLA', 'R_PHAEO',\n",
              "       'R_PRES', 'R_SAMP', 'DIC1', 'DIC2', 'TA1', 'TA2', 'pH2', 'pH1'],\n",
              "      dtype='object')"
            ]
          },
          "metadata": {},
          "execution_count": 9
        }
      ]
    },
    {
      "cell_type": "code",
      "source": [
        "y_train_full = train_set['R_TEMP'].copy()"
      ],
      "metadata": {
        "id": "4xhYj0ac3PDl"
      },
      "execution_count": null,
      "outputs": []
    },
    {
      "cell_type": "code",
      "source": [
        "X_test = test_set.drop(['T_degC', 'R_TEMP','T_prec','T_qual','R_POTEMP'], axis=1)\n",
        "X_test = X_test.drop(drop_attributes, axis=1)\n",
        "X_test.columns"
      ],
      "metadata": {
        "colab": {
          "base_uri": "https://localhost:8080/"
        },
        "id": "Ij-_-kkd-uZI",
        "outputId": "ca63aa59-2a34-4691-f035-abfbda238c7c"
      },
      "execution_count": null,
      "outputs": [
        {
          "output_type": "execute_result",
          "data": {
            "text/plain": [
              "Index(['Depthm', 'Salnty', 'O2ml_L', 'STheta', 'O2Sat', 'Oxy_µmol/Kg',\n",
              "       'RecInd', 'S_prec', 'S_qual', 'P_qual', 'O_qual', 'SThtaq', 'O2Satq',\n",
              "       'ChlorA', 'Chlqua', 'Phaeop', 'Phaqua', 'PO4uM', 'PO4q', 'SiO3uM',\n",
              "       'SiO3qu', 'NO2uM', 'NO2q', 'NO3uM', 'NO3q', 'NH3uM', 'NH3q', 'C14As1',\n",
              "       'C14A1p', 'C14A1q', 'C14As2', 'C14A2p', 'C14A2q', 'DarkAs', 'DarkAp',\n",
              "       'DarkAq', 'MeanAs', 'MeanAp', 'MeanAq', 'LightP', 'R_Depth',\n",
              "       'R_SALINITY', 'R_SIGMA', 'R_SVA', 'R_DYNHT', 'R_O2', 'R_O2Sat',\n",
              "       'R_SIO3', 'R_PO4', 'R_NO3', 'R_NO2', 'R_NH4', 'R_CHLA', 'R_PHAEO',\n",
              "       'R_PRES', 'R_SAMP', 'DIC1', 'DIC2', 'TA1', 'TA2', 'pH2', 'pH1'],\n",
              "      dtype='object')"
            ]
          },
          "metadata": {},
          "execution_count": 11
        }
      ]
    },
    {
      "cell_type": "code",
      "source": [
        "y_test = test_set['R_TEMP'].copy()"
      ],
      "metadata": {
        "id": "CFoMn27E_Pdp"
      },
      "execution_count": null,
      "outputs": []
    },
    {
      "cell_type": "code",
      "source": [
        "print(X_train_full.shape, X_test.shape, y_train_full.shape, y_test.shape)"
      ],
      "metadata": {
        "colab": {
          "base_uri": "https://localhost:8080/"
        },
        "id": "wLjXKvhOH6xr",
        "outputId": "c259e3ae-0054-4a98-e16f-e108d0d39842"
      },
      "execution_count": null,
      "outputs": [
        {
          "output_type": "stream",
          "name": "stdout",
          "text": [
            "(683223, 62) (170677, 62) (683223,) (170677,)\n"
          ]
        }
      ]
    },
    {
      "cell_type": "markdown",
      "source": [
        "Handle Missing Values"
      ],
      "metadata": {
        "id": "AGzSJn813YEE"
      }
    },
    {
      "cell_type": "code",
      "source": [
        "X_train_num = X_train_full.drop(cat_attributes, axis=1)"
      ],
      "metadata": {
        "id": "XTc4MqbL5fqD"
      },
      "execution_count": null,
      "outputs": []
    },
    {
      "cell_type": "code",
      "source": [
        "from sklearn.impute import SimpleImputer\n",
        "from sklearn.preprocessing import StandardScaler\n",
        "from sklearn.pipeline import Pipeline\n",
        "\n",
        "num_pipeline = Pipeline([\n",
        "    ('imputer',SimpleImputer(strategy=\"median\")),\n",
        "    ('std_scaler', StandardScaler())\n",
        "])"
      ],
      "metadata": {
        "id": "NdInf6nfIB-L"
      },
      "execution_count": null,
      "outputs": []
    },
    {
      "cell_type": "code",
      "source": [
        "X_train_full['RecInd'].value_counts()"
      ],
      "metadata": {
        "colab": {
          "base_uri": "https://localhost:8080/"
        },
        "id": "xosOY9iSIGtD",
        "outputId": "8772c35d-091e-4a03-9c9b-52d8d8c5b4ae"
      },
      "execution_count": null,
      "outputs": [
        {
          "output_type": "execute_result",
          "data": {
            "text/plain": [
              "RecInd\n",
              "3    359362\n",
              "7    256762\n",
              "5     64626\n",
              "6      2471\n",
              "4         2\n",
              "Name: count, dtype: int64"
            ]
          },
          "metadata": {},
          "execution_count": 16
        }
      ]
    },
    {
      "cell_type": "code",
      "source": [
        "from sklearn.preprocessing import OneHotEncoder\n",
        "from sklearn.compose import ColumnTransformer\n",
        "full_pipeline = ColumnTransformer([\n",
        "    ('num', num_pipeline, list(X_train_num)),\n",
        "    ('cat', OneHotEncoder(),  [\"RecInd\"])\n",
        "])"
      ],
      "metadata": {
        "id": "tHuCIMOTIK97"
      },
      "execution_count": null,
      "outputs": []
    },
    {
      "cell_type": "code",
      "source": [
        "#Tranform data\n",
        "X_train_tr = full_pipeline.fit_transform(X_train_full)\n",
        "print(X_train_tr[:2, -8:])\n",
        "print(X_train_tr.shape)"
      ],
      "metadata": {
        "colab": {
          "base_uri": "https://localhost:8080/"
        },
        "id": "C2ZMFgREIbpF",
        "outputId": "3cf5311a-ae30-4086-8808-16c98ee37dd7"
      },
      "execution_count": null,
      "outputs": [
        {
          "output_type": "stream",
          "name": "stdout",
          "text": [
            "[[-7.97009012e-03  1.60145371e-04  2.21161193e-03  0.00000000e+00\n",
            "   0.00000000e+00  0.00000000e+00  0.00000000e+00  1.00000000e+00]\n",
            " [-7.97009012e-03  1.60145371e-04  2.21161193e-03  0.00000000e+00\n",
            "   0.00000000e+00  0.00000000e+00  0.00000000e+00  1.00000000e+00]]\n",
            "(683223, 66)\n"
          ]
        }
      ]
    },
    {
      "cell_type": "code",
      "source": [
        "X_train, X_valid = X_train_tr[100000:], X_train_tr[:100000]\n",
        "y_train, y_valid = y_train_full[100000:], y_train_full[:100000]"
      ],
      "metadata": {
        "id": "a6-wyZvMIpmK"
      },
      "execution_count": null,
      "outputs": []
    },
    {
      "cell_type": "code",
      "source": [
        "print(X_train.shape, X_valid.shape, y_train.shape, y_valid.shape)"
      ],
      "metadata": {
        "colab": {
          "base_uri": "https://localhost:8080/"
        },
        "id": "THhYUuDJI6tK",
        "outputId": "976228e8-d8e3-4a12-8359-777828fbd1a3"
      },
      "execution_count": null,
      "outputs": [
        {
          "output_type": "stream",
          "name": "stdout",
          "text": [
            "(583223, 66) (100000, 66) (583223,) (100000,)\n"
          ]
        }
      ]
    },
    {
      "cell_type": "markdown",
      "source": [
        "#Model"
      ],
      "metadata": {
        "id": "x_GqriSNI_y2"
      }
    },
    {
      "cell_type": "code",
      "source": [
        "n_features = X_train.shape[1]\n",
        "print(n_features)"
      ],
      "metadata": {
        "colab": {
          "base_uri": "https://localhost:8080/"
        },
        "id": "l9yv-Vn6JBDD",
        "outputId": "b23a9e98-0a4b-4078-b6ae-4dc77037a693"
      },
      "execution_count": null,
      "outputs": [
        {
          "output_type": "stream",
          "name": "stdout",
          "text": [
            "66\n"
          ]
        }
      ]
    },
    {
      "cell_type": "code",
      "source": [
        "model1 = keras.models.Sequential()\n",
        "model1.add(keras.Input(shape=(n_features,)))\n",
        "model1.add(keras.layers.Dense(10, activation='relu', kernel_initializer='he_normal'))\n",
        "model1.add(keras.layers.Dense(8, activation='relu', kernel_initializer='he_normal'))\n",
        "model1.add(keras.layers.Dense(1))"
      ],
      "metadata": {
        "id": "sKwKuwFRJFMD"
      },
      "execution_count": null,
      "outputs": []
    },
    {
      "cell_type": "code",
      "source": [
        "model1.summary()"
      ],
      "metadata": {
        "colab": {
          "base_uri": "https://localhost:8080/"
        },
        "id": "zqLI7t6AJIZS",
        "outputId": "3dade757-1677-475f-c765-b51ba0506e96"
      },
      "execution_count": null,
      "outputs": [
        {
          "output_type": "stream",
          "name": "stdout",
          "text": [
            "Model: \"sequential_2\"\n",
            "_________________________________________________________________\n",
            " Layer (type)                Output Shape              Param #   \n",
            "=================================================================\n",
            " dense_6 (Dense)             (None, 10)                670       \n",
            "                                                                 \n",
            " dense_7 (Dense)             (None, 8)                 88        \n",
            "                                                                 \n",
            " dense_8 (Dense)             (None, 1)                 9         \n",
            "                                                                 \n",
            "=================================================================\n",
            "Total params: 767 (3.00 KB)\n",
            "Trainable params: 767 (3.00 KB)\n",
            "Non-trainable params: 0 (0.00 Byte)\n",
            "_________________________________________________________________\n"
          ]
        }
      ]
    },
    {
      "cell_type": "markdown",
      "source": [
        "Compile the model"
      ],
      "metadata": {
        "id": "bkRCxTHxJNvz"
      }
    },
    {
      "cell_type": "code",
      "source": [
        "model1.compile(optimizer='adam', loss='mse')"
      ],
      "metadata": {
        "id": "bncRHGqsJPY5"
      },
      "execution_count": null,
      "outputs": []
    },
    {
      "cell_type": "code",
      "source": [
        "keras.utils.plot_model(model1, 'model.png', show_shapes=True)"
      ],
      "metadata": {
        "colab": {
          "base_uri": "https://localhost:8080/",
          "height": 422
        },
        "id": "fpH5dTTxJWpB",
        "outputId": "ca979590-8852-410f-c722-606e72b76e3d"
      },
      "execution_count": null,
      "outputs": [
        {
          "output_type": "execute_result",
          "data": {
            "image/png": "[encoded data removed]",
            "text/plain": [
              "<IPython.core.display.Image object>"
            ]
          },
          "metadata": {},
          "execution_count": 33
        }
      ]
    },
    {
      "cell_type": "code",
      "source": [
        "history1 = model1.fit(X_train, y_train, epochs=50, batch_size=32, validation_data=(X_valid, y_valid))"
      ],
      "metadata": {
        "colab": {
          "base_uri": "https://localhost:8080/"
        },
        "id": "JLduFuKVJZMb",
        "outputId": "7f2f24e8-2356-429a-8b94-7a45ffcc5d2a"
      },
      "execution_count": null,
      "outputs": [
        {
          "output_type": "stream",
          "name": "stdout",
          "text": [
            "Epoch 1/50\n",
            "18226/18226 [==============================] - 81s 4ms/step - loss: 2.8900 - val_loss: 0.7596\n",
            "Epoch 2/50\n",
            "18226/18226 [==============================] - 75s 4ms/step - loss: 0.5212 - val_loss: 0.3220\n",
            "Epoch 3/50\n",
            "18226/18226 [==============================] - 63s 3ms/step - loss: 0.3270 - val_loss: 0.2780\n",
            "Epoch 4/50\n",
            "18226/18226 [==============================] - 39s 2ms/step - loss: 0.2490 - val_loss: 0.2619\n",
            "Epoch 5/50\n",
            "18226/18226 [==============================] - 57s 3ms/step - loss: 0.2370 - val_loss: 0.2415\n",
            "Epoch 6/50\n",
            "18226/18226 [==============================] - 41s 2ms/step - loss: 0.2230 - val_loss: 0.2422\n",
            "Epoch 7/50\n",
            "18226/18226 [==============================] - 46s 3ms/step - loss: 0.2272 - val_loss: 0.3181\n",
            "Epoch 8/50\n",
            "18226/18226 [==============================] - 38s 2ms/step - loss: 0.2161 - val_loss: 0.2429\n",
            "Epoch 9/50\n",
            "18226/18226 [==============================] - 41s 2ms/step - loss: 0.2091 - val_loss: 0.2166\n",
            "Epoch 10/50\n",
            "18226/18226 [==============================] - 40s 2ms/step - loss: 0.2053 - val_loss: 0.2081\n",
            "Epoch 11/50\n",
            "18226/18226 [==============================] - 43s 2ms/step - loss: 0.2001 - val_loss: 0.1947\n",
            "Epoch 12/50\n",
            "18226/18226 [==============================] - 41s 2ms/step - loss: 0.1932 - val_loss: 0.2030\n",
            "Epoch 13/50\n",
            "18226/18226 [==============================] - 42s 2ms/step - loss: 0.2054 - val_loss: 0.1928\n",
            "Epoch 14/50\n",
            "18226/18226 [==============================] - 40s 2ms/step - loss: 0.1898 - val_loss: 0.1904\n",
            "Epoch 15/50\n",
            "18226/18226 [==============================] - 38s 2ms/step - loss: 0.1889 - val_loss: 0.1878\n",
            "Epoch 16/50\n",
            "18226/18226 [==============================] - 40s 2ms/step - loss: 0.1891 - val_loss: 0.1880\n",
            "Epoch 17/50\n",
            "18226/18226 [==============================] - 40s 2ms/step - loss: 0.1901 - val_loss: 0.1823\n",
            "Epoch 18/50\n",
            "18226/18226 [==============================] - 41s 2ms/step - loss: 0.1896 - val_loss: 0.1846\n",
            "Epoch 19/50\n",
            "18226/18226 [==============================] - 41s 2ms/step - loss: 0.1908 - val_loss: 0.1798\n",
            "Epoch 20/50\n",
            "18226/18226 [==============================] - 39s 2ms/step - loss: 0.1851 - val_loss: 0.1823\n",
            "Epoch 21/50\n",
            "18226/18226 [==============================] - 40s 2ms/step - loss: 0.1874 - val_loss: 0.1774\n",
            "Epoch 22/50\n",
            "18226/18226 [==============================] - 39s 2ms/step - loss: 0.1869 - val_loss: 0.1757\n",
            "Epoch 23/50\n",
            "18226/18226 [==============================] - 40s 2ms/step - loss: 0.1891 - val_loss: 0.1912\n",
            "Epoch 24/50\n",
            "18226/18226 [==============================] - 41s 2ms/step - loss: 0.1823 - val_loss: 0.1739\n",
            "Epoch 25/50\n",
            "18226/18226 [==============================] - 42s 2ms/step - loss: 0.1914 - val_loss: 0.1880\n",
            "Epoch 26/50\n",
            "18226/18226 [==============================] - 39s 2ms/step - loss: 0.1824 - val_loss: 0.1731\n",
            "Epoch 27/50\n",
            "18226/18226 [==============================] - 41s 2ms/step - loss: 0.1828 - val_loss: 0.1693\n",
            "Epoch 28/50\n",
            "18226/18226 [==============================] - 41s 2ms/step - loss: 0.1787 - val_loss: 0.1780\n",
            "Epoch 29/50\n",
            "18226/18226 [==============================] - 42s 2ms/step - loss: 0.1803 - val_loss: 0.1768\n",
            "Epoch 30/50\n",
            "18226/18226 [==============================] - 40s 2ms/step - loss: 0.1748 - val_loss: 0.1664\n",
            "Epoch 31/50\n",
            "18226/18226 [==============================] - 39s 2ms/step - loss: 0.2052 - val_loss: 0.1703\n",
            "Epoch 32/50\n",
            "18226/18226 [==============================] - 41s 2ms/step - loss: 0.1863 - val_loss: 0.1701\n",
            "Epoch 33/50\n",
            "18226/18226 [==============================] - 41s 2ms/step - loss: 0.1785 - val_loss: 0.1637\n",
            "Epoch 34/50\n",
            "18226/18226 [==============================] - 40s 2ms/step - loss: 0.1737 - val_loss: 0.1665\n",
            "Epoch 35/50\n",
            "18226/18226 [==============================] - 40s 2ms/step - loss: 0.1748 - val_loss: 0.1659\n",
            "Epoch 36/50\n",
            "18226/18226 [==============================] - 39s 2ms/step - loss: 0.1869 - val_loss: 0.1677\n",
            "Epoch 37/50\n",
            "18226/18226 [==============================] - 40s 2ms/step - loss: 0.1649 - val_loss: 0.1692\n",
            "Epoch 38/50\n",
            "18226/18226 [==============================] - 46s 3ms/step - loss: 0.1758 - val_loss: 0.1600\n",
            "Epoch 39/50\n",
            "18226/18226 [==============================] - 40s 2ms/step - loss: 0.1730 - val_loss: 0.1697\n",
            "Epoch 40/50\n",
            "18226/18226 [==============================] - 39s 2ms/step - loss: 0.1904 - val_loss: 0.1634\n",
            "Epoch 41/50\n",
            "18226/18226 [==============================] - 40s 2ms/step - loss: 0.1620 - val_loss: 0.1683\n",
            "Epoch 42/50\n",
            "18226/18226 [==============================] - 39s 2ms/step - loss: 0.1850 - val_loss: 0.1628\n",
            "Epoch 43/50\n",
            "18226/18226 [==============================] - 40s 2ms/step - loss: 0.1677 - val_loss: 0.1612\n",
            "Epoch 44/50\n",
            "18226/18226 [==============================] - 40s 2ms/step - loss: 0.1667 - val_loss: 0.1685\n",
            "Epoch 45/50\n",
            "18226/18226 [==============================] - 47s 3ms/step - loss: 0.1581 - val_loss: 0.1592\n",
            "Epoch 46/50\n",
            "18226/18226 [==============================] - 40s 2ms/step - loss: 0.1639 - val_loss: 0.1736\n",
            "Epoch 47/50\n",
            "18226/18226 [==============================] - 42s 2ms/step - loss: 0.1666 - val_loss: 0.1608\n",
            "Epoch 48/50\n",
            "18226/18226 [==============================] - 41s 2ms/step - loss: 0.1605 - val_loss: 0.1655\n",
            "Epoch 49/50\n",
            "18226/18226 [==============================] - 39s 2ms/step - loss: 0.1608 - val_loss: 0.1588\n",
            "Epoch 50/50\n",
            "18226/18226 [==============================] - 41s 2ms/step - loss: 0.1601 - val_loss: 0.1660\n"
          ]
        }
      ]
    },
    {
      "cell_type": "code",
      "source": [
        "from matplotlib import pyplot as plt\n",
        "plt.title('Learning Curves')\n",
        "plt.xlabel('Epoch')\n",
        "plt.ylabel('MSE')\n",
        "plt.plot(history1.history['loss'], label='train')\n",
        "plt.plot(history1.history['val_loss'], label='val')\n",
        "plt.legend()\n",
        "plt.show()"
      ],
      "metadata": {
        "colab": {
          "base_uri": "https://localhost:8080/",
          "height": 481
        },
        "id": "fjhVqwZ9TN7t",
        "outputId": "23be5e7c-1ba5-49b6-9c3c-8638dbc8ff9e"
      },
      "execution_count": null,
      "outputs": [
        {
          "output_type": "display_data",
          "data": {
            "text/plain": [
              "<Figure size 640x480 with 1 Axes>"
            ],
            "image/png": "[encoded data removed]"
          },
          "metadata": {}
        }
      ]
    },
    {
      "cell_type": "markdown",
      "source": [
        "#Evaluate the model"
      ],
      "metadata": {
        "id": "7TH8FsLZOSCw"
      }
    },
    {
      "cell_type": "code",
      "source": [
        "#Separate target variable, temperature and features\n",
        "X_test = test_set.drop(['T_degC', 'R_TEMP','T_prec','T_qual','R_POTEMP'], axis=1)\n",
        "X_test = X_test.drop(drop_attributes, axis=1)\n",
        "y_test = test_set['R_TEMP'].copy()"
      ],
      "metadata": {
        "id": "KTdABzQRSjuG"
      },
      "execution_count": null,
      "outputs": []
    },
    {
      "cell_type": "code",
      "source": [
        "X_test_tr = full_pipeline.transform(X_test)\n",
        "print(X_test_tr[:2, -8:])\n",
        "print(X_test_tr.shape)"
      ],
      "metadata": {
        "colab": {
          "base_uri": "https://localhost:8080/"
        },
        "id": "HUNLXSYgS52p",
        "outputId": "2731762e-5d25-441e-cd3a-7734572960d1"
      },
      "execution_count": null,
      "outputs": [
        {
          "output_type": "stream",
          "name": "stdout",
          "text": [
            "[[-7.97009012e-03  1.60145371e-04  2.21161193e-03  1.00000000e+00\n",
            "   0.00000000e+00  0.00000000e+00  0.00000000e+00  0.00000000e+00]\n",
            " [-7.97009012e-03  1.60145371e-04  2.21161193e-03  1.00000000e+00\n",
            "   0.00000000e+00  0.00000000e+00  0.00000000e+00  0.00000000e+00]]\n",
            "(170677, 66)\n"
          ]
        }
      ]
    },
    {
      "cell_type": "code",
      "source": [
        "loss1= model1.evaluate(X_test_tr, y_test)"
      ],
      "metadata": {
        "colab": {
          "base_uri": "https://localhost:8080/"
        },
        "id": "CQH7yjY8TDUk",
        "outputId": "f72b7f36-f2bc-4494-c288-5f9e9eceaed0"
      },
      "execution_count": null,
      "outputs": [
        {
          "output_type": "stream",
          "name": "stdout",
          "text": [
            "5334/5334 [==============================] - 7s 1ms/step - loss: 0.1510\n"
          ]
        }
      ]
    },
    {
      "cell_type": "code",
      "source": [
        "rmse1 = np.sqrt(loss1)"
      ],
      "metadata": {
        "id": "uAWh6owxTFEt"
      },
      "execution_count": null,
      "outputs": []
    },
    {
      "cell_type": "code",
      "source": [
        "print(rmse1)"
      ],
      "metadata": {
        "colab": {
          "base_uri": "https://localhost:8080/"
        },
        "id": "0S4EXMt1TKp2",
        "outputId": "1f77a8d1-7281-4a50-92f8-a38979636a57"
      },
      "execution_count": null,
      "outputs": [
        {
          "output_type": "stream",
          "name": "stdout",
          "text": [
            "0.3885411181544028\n"
          ]
        }
      ]
    },
    {
      "cell_type": "code",
      "source": [
        "import time\n",
        "start = time.time()/60\n",
        "pred = model1.predict(X_test_tr)\n",
        "end = time.time()/60\n",
        "print(end-start)"
      ],
      "metadata": {
        "colab": {
          "base_uri": "https://localhost:8080/"
        },
        "id": "eE6dQzdyqytH",
        "outputId": "02403a71-0f91-4e14-c046-6df0ad38ba85"
      },
      "execution_count": null,
      "outputs": [
        {
          "output_type": "stream",
          "name": "stdout",
          "text": [
            "5334/5334 [==============================] - 12s 2ms/step\n",
            "-0.34501810371875763\n"
          ]
        }
      ]
    },
    {
      "cell_type": "code",
      "source": [
        "from sklearn.metrics import mean_squared_error"
      ],
      "metadata": {
        "id": "QZzq8NCErP_o"
      },
      "execution_count": null,
      "outputs": []
    },
    {
      "cell_type": "code",
      "source": [
        "rmse1 = np.sqrt(mean_squared_error(y_test, pred))"
      ],
      "metadata": {
        "id": "iXpRwJl2sAG3"
      },
      "execution_count": null,
      "outputs": []
    },
    {
      "cell_type": "code",
      "source": [
        "print('TEST RMSE=', rmse1)"
      ],
      "metadata": {
        "colab": {
          "base_uri": "https://localhost:8080/"
        },
        "id": "VLL-QpgGsN7_",
        "outputId": "ef783b28-8c45-42e1-86e4-06b92e6c687e"
      },
      "execution_count": null,
      "outputs": [
        {
          "output_type": "stream",
          "name": "stdout",
          "text": [
            "TEST RMSE= 0.38854095622716367\n"
          ]
        }
      ]
    },
    {
      "cell_type": "code",
      "source": [
        "X_test.loc[:2, :2]"
      ],
      "metadata": {
        "colab": {
          "base_uri": "https://localhost:8080/",
          "height": 478
        },
        "id": "atarCpMVtq6m",
        "outputId": "303ea1e7-113d-440f-8ca2-dd9e96664a2d"
      },
      "execution_count": null,
      "outputs": [
        {
          "output_type": "error",
          "ename": "KeyError",
          "evalue": "2",
          "traceback": [
            "\u001b[0;31m---------------------------------------------------------------------------\u001b[0m",
            "\u001b[0;31mKeyError\u001b[0m                                  Traceback (most recent call last)",
            "\u001b[0;32m/usr/local/lib/python3.10/dist-packages/pandas/core/indexes/base.py\u001b[0m in \u001b[0;36mget_loc\u001b[0;34m(self, key)\u001b[0m\n\u001b[1;32m   3652\u001b[0m         \u001b[0;32mtry\u001b[0m\u001b[0;34m:\u001b[0m\u001b[0;34m\u001b[0m\u001b[0;34m\u001b[0m\u001b[0m\n\u001b[0;32m-> 3653\u001b[0;31m             \u001b[0;32mreturn\u001b[0m \u001b[0mself\u001b[0m\u001b[0;34m.\u001b[0m\u001b[0m_engine\u001b[0m\u001b[0;34m.\u001b[0m\u001b[0mget_loc\u001b[0m\u001b[0;34m(\u001b[0m\u001b[0mcasted_key\u001b[0m\u001b[0;34m)\u001b[0m\u001b[0;34m\u001b[0m\u001b[0;34m\u001b[0m\u001b[0m\n\u001b[0m\u001b[1;32m   3654\u001b[0m         \u001b[0;32mexcept\u001b[0m \u001b[0mKeyError\u001b[0m \u001b[0;32mas\u001b[0m \u001b[0merr\u001b[0m\u001b[0;34m:\u001b[0m\u001b[0;34m\u001b[0m\u001b[0;34m\u001b[0m\u001b[0m\n",
            "\u001b[0;32m/usr/local/lib/python3.10/dist-packages/pandas/_libs/index.pyx\u001b[0m in \u001b[0;36mpandas._libs.index.IndexEngine.get_loc\u001b[0;34m()\u001b[0m\n",
            "\u001b[0;32m/usr/local/lib/python3.10/dist-packages/pandas/_libs/index.pyx\u001b[0m in \u001b[0;36mpandas._libs.index.IndexEngine.get_loc\u001b[0;34m()\u001b[0m\n",
            "\u001b[0;32mpandas/_libs/hashtable_class_helper.pxi\u001b[0m in \u001b[0;36mpandas._libs.hashtable.Int64HashTable.get_item\u001b[0;34m()\u001b[0m\n",
            "\u001b[0;32mpandas/_libs/hashtable_class_helper.pxi\u001b[0m in \u001b[0;36mpandas._libs.hashtable.Int64HashTable.get_item\u001b[0;34m()\u001b[0m\n",
            "\u001b[0;31mKeyError\u001b[0m: 2",
            "\nThe above exception was the direct cause of the following exception:\n",
            "\u001b[0;31mKeyError\u001b[0m                                  Traceback (most recent call last)",
            "\u001b[0;32m<ipython-input-67-2e46461fedf5>\u001b[0m in \u001b[0;36m<cell line: 1>\u001b[0;34m()\u001b[0m\n\u001b[0;32m----> 1\u001b[0;31m \u001b[0mX_test\u001b[0m\u001b[0;34m.\u001b[0m\u001b[0mloc\u001b[0m\u001b[0;34m[\u001b[0m\u001b[0;34m:\u001b[0m\u001b[0;36m2\u001b[0m\u001b[0;34m,\u001b[0m \u001b[0;34m:\u001b[0m\u001b[0;36m2\u001b[0m\u001b[0;34m]\u001b[0m\u001b[0;34m\u001b[0m\u001b[0;34m\u001b[0m\u001b[0m\n\u001b[0m",
            "\u001b[0;32m/usr/local/lib/python3.10/dist-packages/pandas/core/indexing.py\u001b[0m in \u001b[0;36m__getitem__\u001b[0;34m(self, key)\u001b[0m\n\u001b[1;32m   1095\u001b[0m             \u001b[0;32mif\u001b[0m \u001b[0mself\u001b[0m\u001b[0;34m.\u001b[0m\u001b[0m_is_scalar_access\u001b[0m\u001b[0;34m(\u001b[0m\u001b[0mkey\u001b[0m\u001b[0;34m)\u001b[0m\u001b[0;34m:\u001b[0m\u001b[0;34m\u001b[0m\u001b[0;34m\u001b[0m\u001b[0m\n\u001b[1;32m   1096\u001b[0m                 \u001b[0;32mreturn\u001b[0m \u001b[0mself\u001b[0m\u001b[0;34m.\u001b[0m\u001b[0mobj\u001b[0m\u001b[0;34m.\u001b[0m\u001b[0m_get_value\u001b[0m\u001b[0;34m(\u001b[0m\u001b[0;34m*\u001b[0m\u001b[0mkey\u001b[0m\u001b[0;34m,\u001b[0m \u001b[0mtakeable\u001b[0m\u001b[0;34m=\u001b[0m\u001b[0mself\u001b[0m\u001b[0;34m.\u001b[0m\u001b[0m_takeable\u001b[0m\u001b[0;34m)\u001b[0m\u001b[0;34m\u001b[0m\u001b[0;34m\u001b[0m\u001b[0m\n\u001b[0;32m-> 1097\u001b[0;31m             \u001b[0;32mreturn\u001b[0m \u001b[0mself\u001b[0m\u001b[0;34m.\u001b[0m\u001b[0m_getitem_tuple\u001b[0m\u001b[0;34m(\u001b[0m\u001b[0mkey\u001b[0m\u001b[0;34m)\u001b[0m\u001b[0;34m\u001b[0m\u001b[0;34m\u001b[0m\u001b[0m\n\u001b[0m\u001b[1;32m   1098\u001b[0m         \u001b[0;32melse\u001b[0m\u001b[0;34m:\u001b[0m\u001b[0;34m\u001b[0m\u001b[0;34m\u001b[0m\u001b[0m\n\u001b[1;32m   1099\u001b[0m             \u001b[0;31m# we by definition only have the 0th axis\u001b[0m\u001b[0;34m\u001b[0m\u001b[0;34m\u001b[0m\u001b[0m\n",
            "\u001b[0;32m/usr/local/lib/python3.10/dist-packages/pandas/core/indexing.py\u001b[0m in \u001b[0;36m_getitem_tuple\u001b[0;34m(self, tup)\u001b[0m\n\u001b[1;32m   1287\u001b[0m             \u001b[0;32mreturn\u001b[0m \u001b[0mself\u001b[0m\u001b[0;34m.\u001b[0m\u001b[0m_multi_take\u001b[0m\u001b[0;34m(\u001b[0m\u001b[0mtup\u001b[0m\u001b[0;34m)\u001b[0m\u001b[0;34m\u001b[0m\u001b[0;34m\u001b[0m\u001b[0m\n\u001b[1;32m   1288\u001b[0m \u001b[0;34m\u001b[0m\u001b[0m\n\u001b[0;32m-> 1289\u001b[0;31m         \u001b[0;32mreturn\u001b[0m \u001b[0mself\u001b[0m\u001b[0;34m.\u001b[0m\u001b[0m_getitem_tuple_same_dim\u001b[0m\u001b[0;34m(\u001b[0m\u001b[0mtup\u001b[0m\u001b[0;34m)\u001b[0m\u001b[0;34m\u001b[0m\u001b[0;34m\u001b[0m\u001b[0m\n\u001b[0m\u001b[1;32m   1290\u001b[0m \u001b[0;34m\u001b[0m\u001b[0m\n\u001b[1;32m   1291\u001b[0m     \u001b[0;32mdef\u001b[0m \u001b[0m_get_label\u001b[0m\u001b[0;34m(\u001b[0m\u001b[0mself\u001b[0m\u001b[0;34m,\u001b[0m \u001b[0mlabel\u001b[0m\u001b[0;34m,\u001b[0m \u001b[0maxis\u001b[0m\u001b[0;34m:\u001b[0m \u001b[0mAxisInt\u001b[0m\u001b[0;34m)\u001b[0m\u001b[0;34m:\u001b[0m\u001b[0;34m\u001b[0m\u001b[0;34m\u001b[0m\u001b[0m\n",
            "\u001b[0;32m/usr/local/lib/python3.10/dist-packages/pandas/core/indexing.py\u001b[0m in \u001b[0;36m_getitem_tuple_same_dim\u001b[0;34m(self, tup)\u001b[0m\n\u001b[1;32m    953\u001b[0m                 \u001b[0;32mcontinue\u001b[0m\u001b[0;34m\u001b[0m\u001b[0;34m\u001b[0m\u001b[0m\n\u001b[1;32m    954\u001b[0m \u001b[0;34m\u001b[0m\u001b[0m\n\u001b[0;32m--> 955\u001b[0;31m             \u001b[0mretval\u001b[0m \u001b[0;34m=\u001b[0m \u001b[0mgetattr\u001b[0m\u001b[0;34m(\u001b[0m\u001b[0mretval\u001b[0m\u001b[0;34m,\u001b[0m \u001b[0mself\u001b[0m\u001b[0;34m.\u001b[0m\u001b[0mname\u001b[0m\u001b[0;34m)\u001b[0m\u001b[0;34m.\u001b[0m\u001b[0m_getitem_axis\u001b[0m\u001b[0;34m(\u001b[0m\u001b[0mkey\u001b[0m\u001b[0;34m,\u001b[0m \u001b[0maxis\u001b[0m\u001b[0;34m=\u001b[0m\u001b[0mi\u001b[0m\u001b[0;34m)\u001b[0m\u001b[0;34m\u001b[0m\u001b[0;34m\u001b[0m\u001b[0m\n\u001b[0m\u001b[1;32m    956\u001b[0m             \u001b[0;31m# We should never have retval.ndim < self.ndim, as that should\u001b[0m\u001b[0;34m\u001b[0m\u001b[0;34m\u001b[0m\u001b[0m\n\u001b[1;32m    957\u001b[0m             \u001b[0;31m#  be handled by the _getitem_lowerdim call above.\u001b[0m\u001b[0;34m\u001b[0m\u001b[0;34m\u001b[0m\u001b[0m\n",
            "\u001b[0;32m/usr/local/lib/python3.10/dist-packages/pandas/core/indexing.py\u001b[0m in \u001b[0;36m_getitem_axis\u001b[0;34m(self, key, axis)\u001b[0m\n\u001b[1;32m   1321\u001b[0m         \u001b[0;32mif\u001b[0m \u001b[0misinstance\u001b[0m\u001b[0;34m(\u001b[0m\u001b[0mkey\u001b[0m\u001b[0;34m,\u001b[0m \u001b[0mslice\u001b[0m\u001b[0;34m)\u001b[0m\u001b[0;34m:\u001b[0m\u001b[0;34m\u001b[0m\u001b[0;34m\u001b[0m\u001b[0m\n\u001b[1;32m   1322\u001b[0m             \u001b[0mself\u001b[0m\u001b[0;34m.\u001b[0m\u001b[0m_validate_key\u001b[0m\u001b[0;34m(\u001b[0m\u001b[0mkey\u001b[0m\u001b[0;34m,\u001b[0m \u001b[0maxis\u001b[0m\u001b[0;34m)\u001b[0m\u001b[0;34m\u001b[0m\u001b[0;34m\u001b[0m\u001b[0m\n\u001b[0;32m-> 1323\u001b[0;31m             \u001b[0;32mreturn\u001b[0m \u001b[0mself\u001b[0m\u001b[0;34m.\u001b[0m\u001b[0m_get_slice_axis\u001b[0m\u001b[0;34m(\u001b[0m\u001b[0mkey\u001b[0m\u001b[0;34m,\u001b[0m \u001b[0maxis\u001b[0m\u001b[0;34m=\u001b[0m\u001b[0maxis\u001b[0m\u001b[0;34m)\u001b[0m\u001b[0;34m\u001b[0m\u001b[0;34m\u001b[0m\u001b[0m\n\u001b[0m\u001b[1;32m   1324\u001b[0m         \u001b[0;32melif\u001b[0m \u001b[0mcom\u001b[0m\u001b[0;34m.\u001b[0m\u001b[0mis_bool_indexer\u001b[0m\u001b[0;34m(\u001b[0m\u001b[0mkey\u001b[0m\u001b[0;34m)\u001b[0m\u001b[0;34m:\u001b[0m\u001b[0;34m\u001b[0m\u001b[0;34m\u001b[0m\u001b[0m\n\u001b[1;32m   1325\u001b[0m             \u001b[0;32mreturn\u001b[0m \u001b[0mself\u001b[0m\u001b[0;34m.\u001b[0m\u001b[0m_getbool_axis\u001b[0m\u001b[0;34m(\u001b[0m\u001b[0mkey\u001b[0m\u001b[0;34m,\u001b[0m \u001b[0maxis\u001b[0m\u001b[0;34m=\u001b[0m\u001b[0maxis\u001b[0m\u001b[0;34m)\u001b[0m\u001b[0;34m\u001b[0m\u001b[0;34m\u001b[0m\u001b[0m\n",
            "\u001b[0;32m/usr/local/lib/python3.10/dist-packages/pandas/core/indexing.py\u001b[0m in \u001b[0;36m_get_slice_axis\u001b[0;34m(self, slice_obj, axis)\u001b[0m\n\u001b[1;32m   1353\u001b[0m \u001b[0;34m\u001b[0m\u001b[0m\n\u001b[1;32m   1354\u001b[0m         \u001b[0mlabels\u001b[0m \u001b[0;34m=\u001b[0m \u001b[0mobj\u001b[0m\u001b[0;34m.\u001b[0m\u001b[0m_get_axis\u001b[0m\u001b[0;34m(\u001b[0m\u001b[0maxis\u001b[0m\u001b[0;34m)\u001b[0m\u001b[0;34m\u001b[0m\u001b[0;34m\u001b[0m\u001b[0m\n\u001b[0;32m-> 1355\u001b[0;31m         \u001b[0mindexer\u001b[0m \u001b[0;34m=\u001b[0m \u001b[0mlabels\u001b[0m\u001b[0;34m.\u001b[0m\u001b[0mslice_indexer\u001b[0m\u001b[0;34m(\u001b[0m\u001b[0mslice_obj\u001b[0m\u001b[0;34m.\u001b[0m\u001b[0mstart\u001b[0m\u001b[0;34m,\u001b[0m \u001b[0mslice_obj\u001b[0m\u001b[0;34m.\u001b[0m\u001b[0mstop\u001b[0m\u001b[0;34m,\u001b[0m \u001b[0mslice_obj\u001b[0m\u001b[0;34m.\u001b[0m\u001b[0mstep\u001b[0m\u001b[0;34m)\u001b[0m\u001b[0;34m\u001b[0m\u001b[0;34m\u001b[0m\u001b[0m\n\u001b[0m\u001b[1;32m   1356\u001b[0m \u001b[0;34m\u001b[0m\u001b[0m\n\u001b[1;32m   1357\u001b[0m         \u001b[0;32mif\u001b[0m \u001b[0misinstance\u001b[0m\u001b[0;34m(\u001b[0m\u001b[0mindexer\u001b[0m\u001b[0;34m,\u001b[0m \u001b[0mslice\u001b[0m\u001b[0;34m)\u001b[0m\u001b[0;34m:\u001b[0m\u001b[0;34m\u001b[0m\u001b[0;34m\u001b[0m\u001b[0m\n",
            "\u001b[0;32m/usr/local/lib/python3.10/dist-packages/pandas/core/indexes/base.py\u001b[0m in \u001b[0;36mslice_indexer\u001b[0;34m(self, start, end, step)\u001b[0m\n\u001b[1;32m   6342\u001b[0m         \u001b[0mslice\u001b[0m\u001b[0;34m(\u001b[0m\u001b[0;36m1\u001b[0m\u001b[0;34m,\u001b[0m \u001b[0;36m3\u001b[0m\u001b[0;34m,\u001b[0m \u001b[0;32mNone\u001b[0m\u001b[0;34m)\u001b[0m\u001b[0;34m\u001b[0m\u001b[0;34m\u001b[0m\u001b[0m\n\u001b[1;32m   6343\u001b[0m         \"\"\"\n\u001b[0;32m-> 6344\u001b[0;31m         \u001b[0mstart_slice\u001b[0m\u001b[0;34m,\u001b[0m \u001b[0mend_slice\u001b[0m \u001b[0;34m=\u001b[0m \u001b[0mself\u001b[0m\u001b[0;34m.\u001b[0m\u001b[0mslice_locs\u001b[0m\u001b[0;34m(\u001b[0m\u001b[0mstart\u001b[0m\u001b[0;34m,\u001b[0m \u001b[0mend\u001b[0m\u001b[0;34m,\u001b[0m \u001b[0mstep\u001b[0m\u001b[0;34m=\u001b[0m\u001b[0mstep\u001b[0m\u001b[0;34m)\u001b[0m\u001b[0;34m\u001b[0m\u001b[0;34m\u001b[0m\u001b[0m\n\u001b[0m\u001b[1;32m   6345\u001b[0m \u001b[0;34m\u001b[0m\u001b[0m\n\u001b[1;32m   6346\u001b[0m         \u001b[0;31m# return a slice\u001b[0m\u001b[0;34m\u001b[0m\u001b[0;34m\u001b[0m\u001b[0m\n",
            "\u001b[0;32m/usr/local/lib/python3.10/dist-packages/pandas/core/indexes/base.py\u001b[0m in \u001b[0;36mslice_locs\u001b[0;34m(self, start, end, step)\u001b[0m\n\u001b[1;32m   6541\u001b[0m         \u001b[0mend_slice\u001b[0m \u001b[0;34m=\u001b[0m \u001b[0;32mNone\u001b[0m\u001b[0;34m\u001b[0m\u001b[0;34m\u001b[0m\u001b[0m\n\u001b[1;32m   6542\u001b[0m         \u001b[0;32mif\u001b[0m \u001b[0mend\u001b[0m \u001b[0;32mis\u001b[0m \u001b[0;32mnot\u001b[0m \u001b[0;32mNone\u001b[0m\u001b[0;34m:\u001b[0m\u001b[0;34m\u001b[0m\u001b[0;34m\u001b[0m\u001b[0m\n\u001b[0;32m-> 6543\u001b[0;31m             \u001b[0mend_slice\u001b[0m \u001b[0;34m=\u001b[0m \u001b[0mself\u001b[0m\u001b[0;34m.\u001b[0m\u001b[0mget_slice_bound\u001b[0m\u001b[0;34m(\u001b[0m\u001b[0mend\u001b[0m\u001b[0;34m,\u001b[0m \u001b[0;34m\"right\"\u001b[0m\u001b[0;34m)\u001b[0m\u001b[0;34m\u001b[0m\u001b[0;34m\u001b[0m\u001b[0m\n\u001b[0m\u001b[1;32m   6544\u001b[0m         \u001b[0;32mif\u001b[0m \u001b[0mend_slice\u001b[0m \u001b[0;32mis\u001b[0m \u001b[0;32mNone\u001b[0m\u001b[0;34m:\u001b[0m\u001b[0;34m\u001b[0m\u001b[0;34m\u001b[0m\u001b[0m\n\u001b[1;32m   6545\u001b[0m             \u001b[0mend_slice\u001b[0m \u001b[0;34m=\u001b[0m \u001b[0mlen\u001b[0m\u001b[0;34m(\u001b[0m\u001b[0mself\u001b[0m\u001b[0;34m)\u001b[0m\u001b[0;34m\u001b[0m\u001b[0;34m\u001b[0m\u001b[0m\n",
            "\u001b[0;32m/usr/local/lib/python3.10/dist-packages/pandas/core/indexes/base.py\u001b[0m in \u001b[0;36mget_slice_bound\u001b[0;34m(self, label, side)\u001b[0m\n\u001b[1;32m   6460\u001b[0m             \u001b[0;32mexcept\u001b[0m \u001b[0mValueError\u001b[0m\u001b[0;34m:\u001b[0m\u001b[0;34m\u001b[0m\u001b[0;34m\u001b[0m\u001b[0m\n\u001b[1;32m   6461\u001b[0m                 \u001b[0;31m# raise the original KeyError\u001b[0m\u001b[0;34m\u001b[0m\u001b[0;34m\u001b[0m\u001b[0m\n\u001b[0;32m-> 6462\u001b[0;31m                 \u001b[0;32mraise\u001b[0m \u001b[0merr\u001b[0m\u001b[0;34m\u001b[0m\u001b[0;34m\u001b[0m\u001b[0m\n\u001b[0m\u001b[1;32m   6463\u001b[0m \u001b[0;34m\u001b[0m\u001b[0m\n\u001b[1;32m   6464\u001b[0m         \u001b[0;32mif\u001b[0m \u001b[0misinstance\u001b[0m\u001b[0;34m(\u001b[0m\u001b[0mslc\u001b[0m\u001b[0;34m,\u001b[0m \u001b[0mnp\u001b[0m\u001b[0;34m.\u001b[0m\u001b[0mndarray\u001b[0m\u001b[0;34m)\u001b[0m\u001b[0;34m:\u001b[0m\u001b[0;34m\u001b[0m\u001b[0;34m\u001b[0m\u001b[0m\n",
            "\u001b[0;32m/usr/local/lib/python3.10/dist-packages/pandas/core/indexes/base.py\u001b[0m in \u001b[0;36mget_slice_bound\u001b[0;34m(self, label, side)\u001b[0m\n\u001b[1;32m   6454\u001b[0m         \u001b[0;31m# we need to look up the label\u001b[0m\u001b[0;34m\u001b[0m\u001b[0;34m\u001b[0m\u001b[0m\n\u001b[1;32m   6455\u001b[0m         \u001b[0;32mtry\u001b[0m\u001b[0;34m:\u001b[0m\u001b[0;34m\u001b[0m\u001b[0;34m\u001b[0m\u001b[0m\n\u001b[0;32m-> 6456\u001b[0;31m             \u001b[0mslc\u001b[0m \u001b[0;34m=\u001b[0m \u001b[0mself\u001b[0m\u001b[0;34m.\u001b[0m\u001b[0mget_loc\u001b[0m\u001b[0;34m(\u001b[0m\u001b[0mlabel\u001b[0m\u001b[0;34m)\u001b[0m\u001b[0;34m\u001b[0m\u001b[0;34m\u001b[0m\u001b[0m\n\u001b[0m\u001b[1;32m   6457\u001b[0m         \u001b[0;32mexcept\u001b[0m \u001b[0mKeyError\u001b[0m \u001b[0;32mas\u001b[0m \u001b[0merr\u001b[0m\u001b[0;34m:\u001b[0m\u001b[0;34m\u001b[0m\u001b[0;34m\u001b[0m\u001b[0m\n\u001b[1;32m   6458\u001b[0m             \u001b[0;32mtry\u001b[0m\u001b[0;34m:\u001b[0m\u001b[0;34m\u001b[0m\u001b[0;34m\u001b[0m\u001b[0m\n",
            "\u001b[0;32m/usr/local/lib/python3.10/dist-packages/pandas/core/indexes/base.py\u001b[0m in \u001b[0;36mget_loc\u001b[0;34m(self, key)\u001b[0m\n\u001b[1;32m   3653\u001b[0m             \u001b[0;32mreturn\u001b[0m \u001b[0mself\u001b[0m\u001b[0;34m.\u001b[0m\u001b[0m_engine\u001b[0m\u001b[0;34m.\u001b[0m\u001b[0mget_loc\u001b[0m\u001b[0;34m(\u001b[0m\u001b[0mcasted_key\u001b[0m\u001b[0;34m)\u001b[0m\u001b[0;34m\u001b[0m\u001b[0;34m\u001b[0m\u001b[0m\n\u001b[1;32m   3654\u001b[0m         \u001b[0;32mexcept\u001b[0m \u001b[0mKeyError\u001b[0m \u001b[0;32mas\u001b[0m \u001b[0merr\u001b[0m\u001b[0;34m:\u001b[0m\u001b[0;34m\u001b[0m\u001b[0;34m\u001b[0m\u001b[0m\n\u001b[0;32m-> 3655\u001b[0;31m             \u001b[0;32mraise\u001b[0m \u001b[0mKeyError\u001b[0m\u001b[0;34m(\u001b[0m\u001b[0mkey\u001b[0m\u001b[0;34m)\u001b[0m \u001b[0;32mfrom\u001b[0m \u001b[0merr\u001b[0m\u001b[0;34m\u001b[0m\u001b[0;34m\u001b[0m\u001b[0m\n\u001b[0m\u001b[1;32m   3656\u001b[0m         \u001b[0;32mexcept\u001b[0m \u001b[0mTypeError\u001b[0m\u001b[0;34m:\u001b[0m\u001b[0;34m\u001b[0m\u001b[0;34m\u001b[0m\u001b[0m\n\u001b[1;32m   3657\u001b[0m             \u001b[0;31m# If we have a listlike key, _check_indexing_error will raise\u001b[0m\u001b[0;34m\u001b[0m\u001b[0;34m\u001b[0m\u001b[0m\n",
            "\u001b[0;31mKeyError\u001b[0m: 2"
          ]
        }
      ]
    },
    {
      "cell_type": "code",
      "source": [
        "# Plotting\n",
        "plt.scatter(pd.DataFrame(X_test[:,1]), y_test, color='blue')\n",
        "plt.scatter(pd.DataFrame(X_test[:,1]), pred, color='red')\n",
        "plt.title('Temperature Prediction')\n",
        "plt.xlabel(\"X axis\")\n",
        "plt.ylabel(\"Y axis\")\n",
        "plt.show()"
      ],
      "metadata": {
        "colab": {
          "base_uri": "https://localhost:8080/",
          "height": 408
        },
        "id": "JbU8ZQOPtPwL",
        "outputId": "571c2846-2932-4076-d88f-18a3b1e72c6b"
      },
      "execution_count": null,
      "outputs": [
        {
          "output_type": "error",
          "ename": "InvalidIndexError",
          "evalue": "(slice(None, None, None), 1)",
          "traceback": [
            "\u001b[0;31m---------------------------------------------------------------------------\u001b[0m",
            "\u001b[0;31mTypeError\u001b[0m                                 Traceback (most recent call last)",
            "\u001b[0;32m/usr/local/lib/python3.10/dist-packages/pandas/core/indexes/base.py\u001b[0m in \u001b[0;36mget_loc\u001b[0;34m(self, key)\u001b[0m\n\u001b[1;32m   3652\u001b[0m         \u001b[0;32mtry\u001b[0m\u001b[0;34m:\u001b[0m\u001b[0;34m\u001b[0m\u001b[0;34m\u001b[0m\u001b[0m\n\u001b[0;32m-> 3653\u001b[0;31m             \u001b[0;32mreturn\u001b[0m \u001b[0mself\u001b[0m\u001b[0;34m.\u001b[0m\u001b[0m_engine\u001b[0m\u001b[0;34m.\u001b[0m\u001b[0mget_loc\u001b[0m\u001b[0;34m(\u001b[0m\u001b[0mcasted_key\u001b[0m\u001b[0;34m)\u001b[0m\u001b[0;34m\u001b[0m\u001b[0;34m\u001b[0m\u001b[0m\n\u001b[0m\u001b[1;32m   3654\u001b[0m         \u001b[0;32mexcept\u001b[0m \u001b[0mKeyError\u001b[0m \u001b[0;32mas\u001b[0m \u001b[0merr\u001b[0m\u001b[0;34m:\u001b[0m\u001b[0;34m\u001b[0m\u001b[0;34m\u001b[0m\u001b[0m\n",
            "\u001b[0;32m/usr/local/lib/python3.10/dist-packages/pandas/_libs/index.pyx\u001b[0m in \u001b[0;36mpandas._libs.index.IndexEngine.get_loc\u001b[0;34m()\u001b[0m\n",
            "\u001b[0;32m/usr/local/lib/python3.10/dist-packages/pandas/_libs/index.pyx\u001b[0m in \u001b[0;36mpandas._libs.index.IndexEngine.get_loc\u001b[0;34m()\u001b[0m\n",
            "\u001b[0;31mTypeError\u001b[0m: '(slice(None, None, None), 1)' is an invalid key",
            "\nDuring handling of the above exception, another exception occurred:\n",
            "\u001b[0;31mInvalidIndexError\u001b[0m                         Traceback (most recent call last)",
            "\u001b[0;32m<ipython-input-61-0f76bfa22ffc>\u001b[0m in \u001b[0;36m<cell line: 2>\u001b[0;34m()\u001b[0m\n\u001b[1;32m      1\u001b[0m \u001b[0;31m# Plotting\u001b[0m\u001b[0;34m\u001b[0m\u001b[0;34m\u001b[0m\u001b[0m\n\u001b[0;32m----> 2\u001b[0;31m \u001b[0mplt\u001b[0m\u001b[0;34m.\u001b[0m\u001b[0mscatter\u001b[0m\u001b[0;34m(\u001b[0m\u001b[0mpd\u001b[0m\u001b[0;34m.\u001b[0m\u001b[0mDataFrame\u001b[0m\u001b[0;34m(\u001b[0m\u001b[0mX_test\u001b[0m\u001b[0;34m[\u001b[0m\u001b[0;34m:\u001b[0m\u001b[0;34m,\u001b[0m\u001b[0;36m1\u001b[0m\u001b[0;34m]\u001b[0m\u001b[0;34m)\u001b[0m\u001b[0;34m,\u001b[0m \u001b[0my_test\u001b[0m\u001b[0;34m,\u001b[0m \u001b[0mcolor\u001b[0m\u001b[0;34m=\u001b[0m\u001b[0;34m'blue'\u001b[0m\u001b[0;34m)\u001b[0m\u001b[0;34m\u001b[0m\u001b[0;34m\u001b[0m\u001b[0m\n\u001b[0m\u001b[1;32m      3\u001b[0m \u001b[0mplt\u001b[0m\u001b[0;34m.\u001b[0m\u001b[0mscatter\u001b[0m\u001b[0;34m(\u001b[0m\u001b[0mpd\u001b[0m\u001b[0;34m.\u001b[0m\u001b[0mDataFrame\u001b[0m\u001b[0;34m(\u001b[0m\u001b[0mX_test\u001b[0m\u001b[0;34m[\u001b[0m\u001b[0;34m:\u001b[0m\u001b[0;34m,\u001b[0m\u001b[0;36m1\u001b[0m\u001b[0;34m]\u001b[0m\u001b[0;34m)\u001b[0m\u001b[0;34m,\u001b[0m \u001b[0mpred\u001b[0m\u001b[0;34m,\u001b[0m \u001b[0mcolor\u001b[0m\u001b[0;34m=\u001b[0m\u001b[0;34m'red'\u001b[0m\u001b[0;34m)\u001b[0m\u001b[0;34m\u001b[0m\u001b[0;34m\u001b[0m\u001b[0m\n\u001b[1;32m      4\u001b[0m \u001b[0mplt\u001b[0m\u001b[0;34m.\u001b[0m\u001b[0mtitle\u001b[0m\u001b[0;34m(\u001b[0m\u001b[0;34m'Salinity vs Temperature'\u001b[0m\u001b[0;34m)\u001b[0m\u001b[0;34m\u001b[0m\u001b[0;34m\u001b[0m\u001b[0m\n\u001b[1;32m      5\u001b[0m \u001b[0mplt\u001b[0m\u001b[0;34m.\u001b[0m\u001b[0mxlabel\u001b[0m\u001b[0;34m(\u001b[0m\u001b[0;34m\"Salinity\"\u001b[0m\u001b[0;34m)\u001b[0m\u001b[0;34m\u001b[0m\u001b[0;34m\u001b[0m\u001b[0m\n",
            "\u001b[0;32m/usr/local/lib/python3.10/dist-packages/pandas/core/frame.py\u001b[0m in \u001b[0;36m__getitem__\u001b[0;34m(self, key)\u001b[0m\n\u001b[1;32m   3759\u001b[0m             \u001b[0;32mif\u001b[0m \u001b[0mself\u001b[0m\u001b[0;34m.\u001b[0m\u001b[0mcolumns\u001b[0m\u001b[0;34m.\u001b[0m\u001b[0mnlevels\u001b[0m \u001b[0;34m>\u001b[0m \u001b[0;36m1\u001b[0m\u001b[0;34m:\u001b[0m\u001b[0;34m\u001b[0m\u001b[0;34m\u001b[0m\u001b[0m\n\u001b[1;32m   3760\u001b[0m                 \u001b[0;32mreturn\u001b[0m \u001b[0mself\u001b[0m\u001b[0;34m.\u001b[0m\u001b[0m_getitem_multilevel\u001b[0m\u001b[0;34m(\u001b[0m\u001b[0mkey\u001b[0m\u001b[0;34m)\u001b[0m\u001b[0;34m\u001b[0m\u001b[0;34m\u001b[0m\u001b[0m\n\u001b[0;32m-> 3761\u001b[0;31m             \u001b[0mindexer\u001b[0m \u001b[0;34m=\u001b[0m \u001b[0mself\u001b[0m\u001b[0;34m.\u001b[0m\u001b[0mcolumns\u001b[0m\u001b[0;34m.\u001b[0m\u001b[0mget_loc\u001b[0m\u001b[0;34m(\u001b[0m\u001b[0mkey\u001b[0m\u001b[0;34m)\u001b[0m\u001b[0;34m\u001b[0m\u001b[0;34m\u001b[0m\u001b[0m\n\u001b[0m\u001b[1;32m   3762\u001b[0m             \u001b[0;32mif\u001b[0m \u001b[0mis_integer\u001b[0m\u001b[0;34m(\u001b[0m\u001b[0mindexer\u001b[0m\u001b[0;34m)\u001b[0m\u001b[0;34m:\u001b[0m\u001b[0;34m\u001b[0m\u001b[0;34m\u001b[0m\u001b[0m\n\u001b[1;32m   3763\u001b[0m                 \u001b[0mindexer\u001b[0m \u001b[0;34m=\u001b[0m \u001b[0;34m[\u001b[0m\u001b[0mindexer\u001b[0m\u001b[0;34m]\u001b[0m\u001b[0;34m\u001b[0m\u001b[0;34m\u001b[0m\u001b[0m\n",
            "\u001b[0;32m/usr/local/lib/python3.10/dist-packages/pandas/core/indexes/base.py\u001b[0m in \u001b[0;36mget_loc\u001b[0;34m(self, key)\u001b[0m\n\u001b[1;32m   3658\u001b[0m             \u001b[0;31m#  InvalidIndexError. Otherwise we fall through and re-raise\u001b[0m\u001b[0;34m\u001b[0m\u001b[0;34m\u001b[0m\u001b[0m\n\u001b[1;32m   3659\u001b[0m             \u001b[0;31m#  the TypeError.\u001b[0m\u001b[0;34m\u001b[0m\u001b[0;34m\u001b[0m\u001b[0m\n\u001b[0;32m-> 3660\u001b[0;31m             \u001b[0mself\u001b[0m\u001b[0;34m.\u001b[0m\u001b[0m_check_indexing_error\u001b[0m\u001b[0;34m(\u001b[0m\u001b[0mkey\u001b[0m\u001b[0;34m)\u001b[0m\u001b[0;34m\u001b[0m\u001b[0;34m\u001b[0m\u001b[0m\n\u001b[0m\u001b[1;32m   3661\u001b[0m             \u001b[0;32mraise\u001b[0m\u001b[0;34m\u001b[0m\u001b[0;34m\u001b[0m\u001b[0m\n\u001b[1;32m   3662\u001b[0m \u001b[0;34m\u001b[0m\u001b[0m\n",
            "\u001b[0;32m/usr/local/lib/python3.10/dist-packages/pandas/core/indexes/base.py\u001b[0m in \u001b[0;36m_check_indexing_error\u001b[0;34m(self, key)\u001b[0m\n\u001b[1;32m   5735\u001b[0m             \u001b[0;31m# if key is not a scalar, directly raise an error (the code below\u001b[0m\u001b[0;34m\u001b[0m\u001b[0;34m\u001b[0m\u001b[0m\n\u001b[1;32m   5736\u001b[0m             \u001b[0;31m# would convert to numpy arrays and raise later any way) - GH29926\u001b[0m\u001b[0;34m\u001b[0m\u001b[0;34m\u001b[0m\u001b[0m\n\u001b[0;32m-> 5737\u001b[0;31m             \u001b[0;32mraise\u001b[0m \u001b[0mInvalidIndexError\u001b[0m\u001b[0;34m(\u001b[0m\u001b[0mkey\u001b[0m\u001b[0;34m)\u001b[0m\u001b[0;34m\u001b[0m\u001b[0;34m\u001b[0m\u001b[0m\n\u001b[0m\u001b[1;32m   5738\u001b[0m \u001b[0;34m\u001b[0m\u001b[0m\n\u001b[1;32m   5739\u001b[0m     \u001b[0;34m@\u001b[0m\u001b[0mcache_readonly\u001b[0m\u001b[0;34m\u001b[0m\u001b[0;34m\u001b[0m\u001b[0m\n",
            "\u001b[0;31mInvalidIndexError\u001b[0m: (slice(None, None, None), 1)"
          ]
        }
      ]
    },
    {
      "cell_type": "code",
      "source": [
        "model2 = keras.models.Sequential()\n",
        "model2.add(keras.Input(shape=(n_features,)))\n",
        "model2.add(keras.layers.Dense(10, activation='relu', kernel_initializer='he_normal'))\n",
        "model2.add(keras.layers.Dense(10, activation='relu', kernel_initializer='he_normal'))\n",
        "model2.add(keras.layers.Dense(8, activation='relu', kernel_initializer='he_normal'))\n",
        "model2.add(keras.layers.Dense(1))"
      ],
      "metadata": {
        "id": "fJBGAsDHsVko"
      },
      "execution_count": null,
      "outputs": []
    },
    {
      "cell_type": "code",
      "source": [
        "model2.summary()"
      ],
      "metadata": {
        "id": "DdUKDtYM33pt",
        "outputId": "31d60287-4ce8-4b62-c6a7-fa015e330cb6",
        "colab": {
          "base_uri": "https://localhost:8080/"
        }
      },
      "execution_count": null,
      "outputs": [
        {
          "output_type": "stream",
          "name": "stdout",
          "text": [
            "Model: \"sequential_4\"\n",
            "_________________________________________________________________\n",
            " Layer (type)                Output Shape              Param #   \n",
            "=================================================================\n",
            " dense_13 (Dense)            (None, 10)                670       \n",
            "                                                                 \n",
            " dense_14 (Dense)            (None, 10)                110       \n",
            "                                                                 \n",
            " dense_15 (Dense)            (None, 8)                 88        \n",
            "                                                                 \n",
            " dense_16 (Dense)            (None, 1)                 9         \n",
            "                                                                 \n",
            "=================================================================\n",
            "Total params: 877 (3.43 KB)\n",
            "Trainable params: 877 (3.43 KB)\n",
            "Non-trainable params: 0 (0.00 Byte)\n",
            "_________________________________________________________________\n"
          ]
        }
      ]
    },
    {
      "cell_type": "code",
      "source": [
        "model2.compile(optimizer='adam', loss='mse')"
      ],
      "metadata": {
        "id": "REA8Bk52rPAQ"
      },
      "execution_count": null,
      "outputs": []
    },
    {
      "cell_type": "code",
      "source": [
        "history2 = model2.fit(X_train, y_train, epochs=50, batch_size=32, validation_data=(X_valid, y_valid))"
      ],
      "metadata": {
        "colab": {
          "base_uri": "https://localhost:8080/"
        },
        "id": "xMtWPyVIrXXI",
        "outputId": "694a3b6b-9b44-460b-e518-9eb217d976b0"
      },
      "execution_count": null,
      "outputs": [
        {
          "output_type": "stream",
          "name": "stdout",
          "text": [
            "Epoch 1/50\n",
            "18226/18226 [==============================] - 43s 2ms/step - loss: 4.7317 - val_loss: 0.6780\n",
            "Epoch 2/50\n",
            "18226/18226 [==============================] - 42s 2ms/step - loss: 0.4206 - val_loss: 0.2689\n",
            "Epoch 3/50\n",
            "18226/18226 [==============================] - 41s 2ms/step - loss: 0.2328 - val_loss: 0.2338\n",
            "Epoch 4/50\n",
            "18226/18226 [==============================] - 40s 2ms/step - loss: 0.2210 - val_loss: 0.2204\n",
            "Epoch 5/50\n",
            "18226/18226 [==============================] - 41s 2ms/step - loss: 0.2086 - val_loss: 0.2267\n",
            "Epoch 6/50\n",
            "18226/18226 [==============================] - 40s 2ms/step - loss: 0.2004 - val_loss: 0.2031\n",
            "Epoch 7/50\n",
            "18226/18226 [==============================] - 41s 2ms/step - loss: 0.1864 - val_loss: 0.1874\n",
            "Epoch 8/50\n",
            "18226/18226 [==============================] - 42s 2ms/step - loss: 0.1928 - val_loss: 0.2139\n",
            "Epoch 9/50\n",
            "18226/18226 [==============================] - 40s 2ms/step - loss: 0.1718 - val_loss: 0.1838\n",
            "Epoch 10/50\n",
            "18226/18226 [==============================] - 41s 2ms/step - loss: 0.1614 - val_loss: 0.1733\n",
            "Epoch 11/50\n",
            "18226/18226 [==============================] - 40s 2ms/step - loss: 0.1625 - val_loss: 0.1739\n",
            "Epoch 12/50\n",
            "18226/18226 [==============================] - 42s 2ms/step - loss: 0.1547 - val_loss: 0.1618\n",
            "Epoch 13/50\n",
            "18226/18226 [==============================] - 42s 2ms/step - loss: 0.1529 - val_loss: 0.1613\n",
            "Epoch 14/50\n",
            "18226/18226 [==============================] - 41s 2ms/step - loss: 0.1531 - val_loss: 0.1673\n",
            "Epoch 15/50\n",
            "18226/18226 [==============================] - 43s 2ms/step - loss: 0.1555 - val_loss: 0.1580\n",
            "Epoch 16/50\n",
            "18226/18226 [==============================] - 41s 2ms/step - loss: 0.1470 - val_loss: 0.1572\n",
            "Epoch 17/50\n",
            "18226/18226 [==============================] - 43s 2ms/step - loss: 0.1481 - val_loss: 0.1608\n",
            "Epoch 18/50\n",
            "18226/18226 [==============================] - 43s 2ms/step - loss: 0.1643 - val_loss: 0.1615\n",
            "Epoch 19/50\n",
            "18226/18226 [==============================] - 41s 2ms/step - loss: 0.1456 - val_loss: 0.1514\n",
            "Epoch 20/50\n",
            "18226/18226 [==============================] - 40s 2ms/step - loss: 0.1502 - val_loss: 0.1479\n",
            "Epoch 21/50\n",
            "18226/18226 [==============================] - 46s 3ms/step - loss: 0.1565 - val_loss: 0.1599\n",
            "Epoch 22/50\n",
            "18226/18226 [==============================] - 42s 2ms/step - loss: 0.1767 - val_loss: 0.1589\n",
            "Epoch 23/50\n",
            "18226/18226 [==============================] - 41s 2ms/step - loss: 0.1466 - val_loss: 0.1501\n",
            "Epoch 24/50\n",
            "18226/18226 [==============================] - 42s 2ms/step - loss: 0.1427 - val_loss: 0.1516\n",
            "Epoch 25/50\n",
            "18226/18226 [==============================] - 42s 2ms/step - loss: 0.1403 - val_loss: 0.1530\n",
            "Epoch 26/50\n",
            "18226/18226 [==============================] - 43s 2ms/step - loss: 0.1453 - val_loss: 0.1462\n",
            "Epoch 27/50\n",
            "18226/18226 [==============================] - 43s 2ms/step - loss: 0.1412 - val_loss: 0.1467\n",
            "Epoch 28/50\n",
            "18226/18226 [==============================] - 41s 2ms/step - loss: 0.1405 - val_loss: 0.1477\n",
            "Epoch 29/50\n",
            "18226/18226 [==============================] - 43s 2ms/step - loss: 0.1394 - val_loss: 0.1623\n",
            "Epoch 30/50\n",
            "18226/18226 [==============================] - 42s 2ms/step - loss: 0.1786 - val_loss: 0.1542\n",
            "Epoch 31/50\n",
            "18226/18226 [==============================] - 39s 2ms/step - loss: 0.1379 - val_loss: 0.1518\n",
            "Epoch 32/50\n",
            "18226/18226 [==============================] - 42s 2ms/step - loss: 0.1405 - val_loss: 0.1529\n",
            "Epoch 33/50\n",
            "18226/18226 [==============================] - 41s 2ms/step - loss: 0.1355 - val_loss: 0.1471\n",
            "Epoch 34/50\n",
            "18226/18226 [==============================] - 42s 2ms/step - loss: 0.1363 - val_loss: 0.1489\n",
            "Epoch 35/50\n",
            "18226/18226 [==============================] - 42s 2ms/step - loss: 0.1358 - val_loss: 0.1436\n",
            "Epoch 36/50\n",
            "18226/18226 [==============================] - 41s 2ms/step - loss: 0.1333 - val_loss: 0.1433\n",
            "Epoch 37/50\n",
            "18226/18226 [==============================] - 43s 2ms/step - loss: 0.1349 - val_loss: 0.1440\n",
            "Epoch 38/50\n",
            "18226/18226 [==============================] - 40s 2ms/step - loss: 0.1375 - val_loss: 0.1436\n",
            "Epoch 39/50\n",
            "18226/18226 [==============================] - 42s 2ms/step - loss: 0.1313 - val_loss: 0.1490\n",
            "Epoch 40/50\n",
            "18226/18226 [==============================] - 41s 2ms/step - loss: 0.1334 - val_loss: 0.1428\n",
            "Epoch 41/50\n",
            "18226/18226 [==============================] - 42s 2ms/step - loss: 0.1323 - val_loss: 0.1486\n",
            "Epoch 42/50\n",
            "18226/18226 [==============================] - 46s 3ms/step - loss: 0.1336 - val_loss: 0.1561\n",
            "Epoch 43/50\n",
            "18226/18226 [==============================] - 41s 2ms/step - loss: 0.1336 - val_loss: 0.1401\n",
            "Epoch 44/50\n",
            "18226/18226 [==============================] - 39s 2ms/step - loss: 0.1392 - val_loss: 0.1433\n",
            "Epoch 45/50\n",
            "18226/18226 [==============================] - 42s 2ms/step - loss: 0.1353 - val_loss: 0.1432\n",
            "Epoch 46/50\n",
            "18226/18226 [==============================] - 41s 2ms/step - loss: 0.1341 - val_loss: 0.1449\n",
            "Epoch 47/50\n",
            "18226/18226 [==============================] - 41s 2ms/step - loss: 0.1338 - val_loss: 0.1434\n",
            "Epoch 48/50\n",
            "18226/18226 [==============================] - 41s 2ms/step - loss: 0.1328 - val_loss: 0.1394\n",
            "Epoch 49/50\n",
            "18226/18226 [==============================] - 39s 2ms/step - loss: 0.1289 - val_loss: 0.1406\n",
            "Epoch 50/50\n",
            "18226/18226 [==============================] - 42s 2ms/step - loss: 0.1318 - val_loss: 0.1471\n"
          ]
        }
      ]
    },
    {
      "cell_type": "code",
      "source": [
        "print(history2.history.keys())"
      ],
      "metadata": {
        "colab": {
          "base_uri": "https://localhost:8080/"
        },
        "id": "-i4e4fYK0gJi",
        "outputId": "5038ab3d-81af-4af7-f70d-3cb290ebbcf8"
      },
      "execution_count": null,
      "outputs": [
        {
          "output_type": "stream",
          "name": "stdout",
          "text": [
            "dict_keys(['loss', 'val_loss'])\n"
          ]
        }
      ]
    },
    {
      "cell_type": "code",
      "source": [
        "from matplotlib import pyplot as plt\n",
        "plt.title('Learning Curves')\n",
        "plt.xlabel('Epoch')\n",
        "plt.ylabel('MSE')\n",
        "plt.plot(history2.history['loss'], label='train')\n",
        "plt.plot(history2.history['val_loss'], label='val')\n",
        "plt.legend()\n",
        "plt.show()"
      ],
      "metadata": {
        "colab": {
          "base_uri": "https://localhost:8080/",
          "height": 481
        },
        "id": "IA8r0KpI0d4X",
        "outputId": "29dc374d-0843-466f-9c4e-4373df1c6f08"
      },
      "execution_count": null,
      "outputs": [
        {
          "output_type": "display_data",
          "data": {
            "text/plain": [
              "<Figure size 640x480 with 1 Axes>"
            ],
            "image/png": "[encoded data removed]"
          },
          "metadata": {}
        }
      ]
    },
    {
      "cell_type": "code",
      "source": [
        "from matplotlib import pyplot as plt\n",
        "plt.title('Learning Curves')\n",
        "plt.xlabel('Epoch')\n",
        "plt.ylabel('RMSE')\n",
        "plt.plot(np.sqrt(history2.history['loss']), label='train')\n",
        "plt.plot(np.sqrt(history2.history['val_loss']), label='val')\n",
        "plt.legend()\n",
        "plt.show()"
      ],
      "metadata": {
        "colab": {
          "base_uri": "https://localhost:8080/",
          "height": 481
        },
        "id": "rIeTgN2o02LL",
        "outputId": "0b51acb2-4a69-4d4a-886b-d62e3a3d140d"
      },
      "execution_count": null,
      "outputs": [
        {
          "output_type": "display_data",
          "data": {
            "text/plain": [
              "<Figure size 640x480 with 1 Axes>"
            ],
            "image/png": "[encoded data removed]"
          },
          "metadata": {}
        }
      ]
    },
    {
      "cell_type": "code",
      "source": [
        "loss2= model2.evaluate(X_test_tr, y_test)\n",
        "rmse2 = np.sqrt(loss2)"
      ],
      "metadata": {
        "colab": {
          "base_uri": "https://localhost:8080/"
        },
        "id": "NWaxX6NI1Tl2",
        "outputId": "211b95bb-1bc2-41aa-81ac-b710faf7e75e"
      },
      "execution_count": null,
      "outputs": [
        {
          "output_type": "stream",
          "name": "stdout",
          "text": [
            "5334/5334 [==============================] - 9s 2ms/step - loss: 0.1370\n"
          ]
        }
      ]
    },
    {
      "cell_type": "code",
      "source": [
        "print(rmse2)"
      ],
      "metadata": {
        "colab": {
          "base_uri": "https://localhost:8080/"
        },
        "id": "kE86HtBj1npq",
        "outputId": "bbfc2b0e-798d-4649-c7c0-596c50382daa"
      },
      "execution_count": null,
      "outputs": [
        {
          "output_type": "stream",
          "name": "stdout",
          "text": [
            "0.3701447247650888\n"
          ]
        }
      ]
    },
    {
      "cell_type": "markdown",
      "source": [
        "Clear Session"
      ],
      "metadata": {
        "id": "W8W3-Vai4w7k"
      }
    },
    {
      "cell_type": "code",
      "source": [
        "keras.backend.clear_session() # clearing session\n",
        "np.random.seed(42) # generating random see\n",
        "tf.random.set_seed(42) # set.seed function helps reuse same set of random variables"
      ],
      "metadata": {
        "id": "0Yg5r3dP4v04"
      },
      "execution_count": null,
      "outputs": []
    },
    {
      "cell_type": "code",
      "source": [
        "history2_2 = model2.fit(X_train, y_train, epochs=100, batch_size=32, validation_data=(X_valid, y_valid))"
      ],
      "metadata": {
        "colab": {
          "base_uri": "https://localhost:8080/"
        },
        "id": "WVTn1f5f1zeF",
        "outputId": "74fc8955-2f9b-4b20-b1fe-9b8f78418036"
      },
      "execution_count": null,
      "outputs": [
        {
          "output_type": "stream",
          "name": "stdout",
          "text": [
            "Epoch 1/100\n",
            "18226/18226 [==============================] - 39s 2ms/step - loss: 0.1241 - val_loss: 0.1437\n",
            "Epoch 2/100\n",
            "18226/18226 [==============================] - 39s 2ms/step - loss: 0.1262 - val_loss: 0.1342\n",
            "Epoch 3/100\n",
            "18226/18226 [==============================] - 41s 2ms/step - loss: 0.1278 - val_loss: 0.1435\n",
            "Epoch 4/100\n",
            "18226/18226 [==============================] - 39s 2ms/step - loss: 0.1247 - val_loss: 0.1391\n",
            "Epoch 5/100\n",
            "18226/18226 [==============================] - 42s 2ms/step - loss: 0.1271 - val_loss: 0.1340\n",
            "Epoch 6/100\n",
            "18226/18226 [==============================] - 42s 2ms/step - loss: 0.1244 - val_loss: 0.1375\n",
            "Epoch 7/100\n",
            "18226/18226 [==============================] - 40s 2ms/step - loss: 0.1225 - val_loss: 0.1317\n",
            "Epoch 8/100\n",
            "18226/18226 [==============================] - 38s 2ms/step - loss: 0.1214 - val_loss: 0.1348\n",
            "Epoch 9/100\n",
            "18226/18226 [==============================] - 40s 2ms/step - loss: 0.1244 - val_loss: 0.1332\n",
            "Epoch 10/100\n",
            "18226/18226 [==============================] - 42s 2ms/step - loss: 0.1217 - val_loss: 0.1391\n",
            "Epoch 11/100\n",
            "18226/18226 [==============================] - 39s 2ms/step - loss: 0.1225 - val_loss: 0.1311\n",
            "Epoch 12/100\n",
            "18226/18226 [==============================] - 39s 2ms/step - loss: 0.1203 - val_loss: 0.1347\n",
            "Epoch 13/100\n",
            "18226/18226 [==============================] - 40s 2ms/step - loss: 0.1210 - val_loss: 0.1394\n",
            "Epoch 14/100\n",
            "18226/18226 [==============================] - 37s 2ms/step - loss: 0.1211 - val_loss: 0.1294\n",
            "Epoch 15/100\n",
            "18226/18226 [==============================] - 40s 2ms/step - loss: 0.1197 - val_loss: 0.1479\n",
            "Epoch 16/100\n",
            "18226/18226 [==============================] - 37s 2ms/step - loss: 0.1202 - val_loss: 0.1343\n",
            "Epoch 17/100\n",
            "18226/18226 [==============================] - 39s 2ms/step - loss: 0.1203 - val_loss: 0.1423\n",
            "Epoch 18/100\n",
            "18226/18226 [==============================] - 39s 2ms/step - loss: 0.1202 - val_loss: 0.1397\n",
            "Epoch 19/100\n",
            "18226/18226 [==============================] - 42s 2ms/step - loss: 0.1206 - val_loss: 0.1345\n",
            "Epoch 20/100\n",
            "18226/18226 [==============================] - 49s 3ms/step - loss: 0.1196 - val_loss: 0.1378\n",
            "Epoch 21/100\n",
            "18226/18226 [==============================] - 39s 2ms/step - loss: 0.1204 - val_loss: 0.1452\n",
            "Epoch 22/100\n",
            "18226/18226 [==============================] - 40s 2ms/step - loss: 0.1195 - val_loss: 0.1315\n",
            "Epoch 23/100\n",
            "18226/18226 [==============================] - 39s 2ms/step - loss: 0.1200 - val_loss: 0.1343\n",
            "Epoch 24/100\n",
            "18226/18226 [==============================] - 40s 2ms/step - loss: 0.1190 - val_loss: 0.1291\n",
            "Epoch 25/100\n",
            "18226/18226 [==============================] - 40s 2ms/step - loss: 0.1187 - val_loss: 0.1383\n",
            "Epoch 26/100\n",
            "18226/18226 [==============================] - 39s 2ms/step - loss: 0.1207 - val_loss: 0.1375\n",
            "Epoch 27/100\n",
            "18226/18226 [==============================] - 41s 2ms/step - loss: 0.1185 - val_loss: 0.1433\n",
            "Epoch 28/100\n",
            "18226/18226 [==============================] - 39s 2ms/step - loss: 0.1202 - val_loss: 0.1363\n",
            "Epoch 29/100\n",
            "18226/18226 [==============================] - 41s 2ms/step - loss: 0.1208 - val_loss: 0.1293\n",
            "Epoch 30/100\n",
            "18226/18226 [==============================] - 39s 2ms/step - loss: 0.1179 - val_loss: 0.1442\n",
            "Epoch 31/100\n",
            "18226/18226 [==============================] - 37s 2ms/step - loss: 0.1198 - val_loss: 0.1418\n",
            "Epoch 32/100\n",
            "18226/18226 [==============================] - 40s 2ms/step - loss: 0.1175 - val_loss: 0.1310\n",
            "Epoch 33/100\n",
            "18226/18226 [==============================] - 40s 2ms/step - loss: 0.1183 - val_loss: 0.1265\n",
            "Epoch 34/100\n",
            "18226/18226 [==============================] - 40s 2ms/step - loss: 0.1171 - val_loss: 0.1333\n",
            "Epoch 35/100\n",
            "18226/18226 [==============================] - 38s 2ms/step - loss: 0.1178 - val_loss: 0.1347\n",
            "Epoch 36/100\n",
            "18226/18226 [==============================] - 40s 2ms/step - loss: 0.1165 - val_loss: 0.1352\n",
            "Epoch 37/100\n",
            "18226/18226 [==============================] - 40s 2ms/step - loss: 0.1190 - val_loss: 0.1283\n",
            "Epoch 38/100\n",
            "18226/18226 [==============================] - 40s 2ms/step - loss: 0.1179 - val_loss: 0.1293\n",
            "Epoch 39/100\n",
            "18226/18226 [==============================] - 39s 2ms/step - loss: 0.1175 - val_loss: 0.1297\n",
            "Epoch 40/100\n",
            "18226/18226 [==============================] - 39s 2ms/step - loss: 0.1200 - val_loss: 0.1299\n",
            "Epoch 41/100\n",
            "18226/18226 [==============================] - 39s 2ms/step - loss: 0.1171 - val_loss: 0.1336\n",
            "Epoch 42/100\n",
            "18226/18226 [==============================] - 38s 2ms/step - loss: 0.1167 - val_loss: 0.1326\n",
            "Epoch 43/100\n",
            "18226/18226 [==============================] - 39s 2ms/step - loss: 0.1175 - val_loss: 0.1297\n",
            "Epoch 44/100\n",
            "18226/18226 [==============================] - 39s 2ms/step - loss: 0.1153 - val_loss: 0.1329\n",
            "Epoch 45/100\n",
            "18226/18226 [==============================] - 40s 2ms/step - loss: 0.1164 - val_loss: 0.1291\n",
            "Epoch 46/100\n",
            "18226/18226 [==============================] - 39s 2ms/step - loss: 0.1152 - val_loss: 0.1281\n",
            "Epoch 47/100\n",
            "18226/18226 [==============================] - 39s 2ms/step - loss: 0.1146 - val_loss: 0.1254\n",
            "Epoch 48/100\n",
            "18226/18226 [==============================] - 37s 2ms/step - loss: 0.1142 - val_loss: 0.1283\n",
            "Epoch 49/100\n",
            "18226/18226 [==============================] - 39s 2ms/step - loss: 0.1142 - val_loss: 0.1311\n",
            "Epoch 50/100\n",
            "18226/18226 [==============================] - 38s 2ms/step - loss: 0.1143 - val_loss: 0.1278\n",
            "Epoch 51/100\n",
            "18226/18226 [==============================] - 37s 2ms/step - loss: 0.1150 - val_loss: 0.1304\n",
            "Epoch 52/100\n",
            "18226/18226 [==============================] - 40s 2ms/step - loss: 0.1141 - val_loss: 0.1255\n",
            "Epoch 53/100\n",
            "18226/18226 [==============================] - 40s 2ms/step - loss: 0.1143 - val_loss: 0.1379\n",
            "Epoch 54/100\n",
            "18226/18226 [==============================] - 38s 2ms/step - loss: 0.1136 - val_loss: 0.1327\n",
            "Epoch 55/100\n",
            "18226/18226 [==============================] - 39s 2ms/step - loss: 0.1140 - val_loss: 0.1257\n",
            "Epoch 56/100\n",
            "18226/18226 [==============================] - 38s 2ms/step - loss: 0.1141 - val_loss: 0.1231\n",
            "Epoch 57/100\n",
            "18226/18226 [==============================] - 40s 2ms/step - loss: 0.1131 - val_loss: 0.1334\n",
            "Epoch 58/100\n",
            "18226/18226 [==============================] - 38s 2ms/step - loss: 0.1139 - val_loss: 0.1257\n",
            "Epoch 59/100\n",
            "18226/18226 [==============================] - 39s 2ms/step - loss: 0.1134 - val_loss: 0.1309\n",
            "Epoch 60/100\n",
            "18226/18226 [==============================] - 38s 2ms/step - loss: 0.1164 - val_loss: 0.1241\n",
            "Epoch 61/100\n",
            "18226/18226 [==============================] - 39s 2ms/step - loss: 0.1148 - val_loss: 0.1297\n",
            "Epoch 62/100\n",
            "18226/18226 [==============================] - 38s 2ms/step - loss: 0.1142 - val_loss: 0.1256\n",
            "Epoch 63/100\n",
            "18226/18226 [==============================] - 39s 2ms/step - loss: 0.1145 - val_loss: 0.1260\n",
            "Epoch 64/100\n",
            "18226/18226 [==============================] - 38s 2ms/step - loss: 0.1138 - val_loss: 0.1237\n",
            "Epoch 65/100\n",
            "18226/18226 [==============================] - 40s 2ms/step - loss: 0.1133 - val_loss: 0.1285\n",
            "Epoch 66/100\n",
            "18226/18226 [==============================] - 39s 2ms/step - loss: 0.1123 - val_loss: 0.1236\n",
            "Epoch 67/100\n",
            "18226/18226 [==============================] - 39s 2ms/step - loss: 0.1110 - val_loss: 0.1261\n",
            "Epoch 68/100\n",
            "18226/18226 [==============================] - 38s 2ms/step - loss: 0.1119 - val_loss: 0.1303\n",
            "Epoch 69/100\n",
            "18226/18226 [==============================] - 39s 2ms/step - loss: 0.1124 - val_loss: 0.1241\n",
            "Epoch 70/100\n",
            "18226/18226 [==============================] - 39s 2ms/step - loss: 0.1110 - val_loss: 0.1265\n",
            "Epoch 71/100\n",
            "18226/18226 [==============================] - 40s 2ms/step - loss: 0.1158 - val_loss: 0.1236\n",
            "Epoch 72/100\n",
            "18226/18226 [==============================] - 39s 2ms/step - loss: 0.1141 - val_loss: 0.1235\n",
            "Epoch 73/100\n",
            "18226/18226 [==============================] - 39s 2ms/step - loss: 0.1134 - val_loss: 0.1267\n",
            "Epoch 74/100\n",
            "18226/18226 [==============================] - 39s 2ms/step - loss: 0.1121 - val_loss: 0.1231\n",
            "Epoch 75/100\n",
            "18226/18226 [==============================] - 41s 2ms/step - loss: 0.1115 - val_loss: 0.1238\n",
            "Epoch 76/100\n",
            "18226/18226 [==============================] - 39s 2ms/step - loss: 0.1116 - val_loss: 0.1208\n",
            "Epoch 77/100\n",
            "18226/18226 [==============================] - 40s 2ms/step - loss: 0.1118 - val_loss: 0.1274\n",
            "Epoch 78/100\n",
            "18226/18226 [==============================] - 40s 2ms/step - loss: 0.1138 - val_loss: 0.1290\n",
            "Epoch 79/100\n",
            "18226/18226 [==============================] - 37s 2ms/step - loss: 0.1117 - val_loss: 0.1286\n",
            "Epoch 80/100\n",
            "18226/18226 [==============================] - 40s 2ms/step - loss: 0.1109 - val_loss: 0.1213\n",
            "Epoch 81/100\n",
            "18226/18226 [==============================] - 38s 2ms/step - loss: 0.1113 - val_loss: 0.1428\n",
            "Epoch 82/100\n",
            "18226/18226 [==============================] - 39s 2ms/step - loss: 0.1107 - val_loss: 0.1274\n",
            "Epoch 83/100\n",
            "18226/18226 [==============================] - 40s 2ms/step - loss: 0.1116 - val_loss: 0.1340\n",
            "Epoch 84/100\n",
            "18226/18226 [==============================] - 40s 2ms/step - loss: 0.1109 - val_loss: 0.1266\n",
            "Epoch 85/100\n",
            "18226/18226 [==============================] - 39s 2ms/step - loss: 0.1108 - val_loss: 0.1250\n",
            "Epoch 86/100\n",
            "18226/18226 [==============================] - 39s 2ms/step - loss: 0.1132 - val_loss: 0.1235\n",
            "Epoch 87/100\n",
            "18226/18226 [==============================] - 37s 2ms/step - loss: 0.1137 - val_loss: 0.1291\n",
            "Epoch 88/100\n",
            "18226/18226 [==============================] - 39s 2ms/step - loss: 0.1120 - val_loss: 0.1291\n",
            "Epoch 89/100\n",
            "18226/18226 [==============================] - 38s 2ms/step - loss: 0.1142 - val_loss: 0.1270\n",
            "Epoch 90/100\n",
            "18226/18226 [==============================] - 39s 2ms/step - loss: 0.1109 - val_loss: 0.1276\n",
            "Epoch 91/100\n",
            "18226/18226 [==============================] - 40s 2ms/step - loss: 0.1108 - val_loss: 0.1273\n",
            "Epoch 92/100\n",
            "18226/18226 [==============================] - 39s 2ms/step - loss: 0.1123 - val_loss: 0.1289\n",
            "Epoch 93/100\n",
            "18226/18226 [==============================] - 39s 2ms/step - loss: 0.1116 - val_loss: 0.1317\n",
            "Epoch 94/100\n",
            "18226/18226 [==============================] - 40s 2ms/step - loss: 0.1107 - val_loss: 0.1303\n",
            "Epoch 95/100\n",
            "18226/18226 [==============================] - 38s 2ms/step - loss: 0.1120 - val_loss: 0.1323\n",
            "Epoch 96/100\n",
            "18226/18226 [==============================] - 41s 2ms/step - loss: 0.1118 - val_loss: 0.1290\n",
            "Epoch 97/100\n",
            "18226/18226 [==============================] - 40s 2ms/step - loss: 0.1121 - val_loss: 0.1572\n",
            "Epoch 98/100\n",
            "18226/18226 [==============================] - 40s 2ms/step - loss: 0.1118 - val_loss: 0.1286\n",
            "Epoch 99/100\n",
            "18226/18226 [==============================] - 39s 2ms/step - loss: 0.1108 - val_loss: 0.1228\n",
            "Epoch 100/100\n",
            "18226/18226 [==============================] - 38s 2ms/step - loss: 0.1092 - val_loss: 0.1272\n"
          ]
        }
      ]
    },
    {
      "cell_type": "markdown",
      "source": [
        "Model 2, increased epoch to 100, train loss"
      ],
      "metadata": {
        "id": "eF1Ct2eXItfZ"
      }
    },
    {
      "cell_type": "code",
      "source": [
        "#print(history2_2.history['loss'][-1])\n",
        "print(np.sqrt(history2_2.history['loss'][-1]))"
      ],
      "metadata": {
        "colab": {
          "base_uri": "https://localhost:8080/"
        },
        "id": "7Es59oUeFiEh",
        "outputId": "977485ec-4e74-454f-d0b1-cd34d513b0fe"
      },
      "execution_count": null,
      "outputs": [
        {
          "output_type": "stream",
          "name": "stdout",
          "text": [
            "0.33043674873178625\n"
          ]
        }
      ]
    },
    {
      "cell_type": "markdown",
      "source": [
        "Train data, validation RMSE"
      ],
      "metadata": {
        "id": "ZkpHoML7Ikfb"
      }
    },
    {
      "cell_type": "code",
      "source": [
        "#print(history2_2.history['val_loss'][-1])\n",
        "print(np.sqrt(history2_2.history['val_loss'][-1]))"
      ],
      "metadata": {
        "colab": {
          "base_uri": "https://localhost:8080/"
        },
        "id": "dsSwCvn9GGSy",
        "outputId": "1ce50392-e633-4e4f-b880-d398348c6b6d"
      },
      "execution_count": null,
      "outputs": [
        {
          "output_type": "stream",
          "name": "stdout",
          "text": [
            "0.3565918921510083\n"
          ]
        }
      ]
    },
    {
      "cell_type": "markdown",
      "source": [
        "Test Data - RMSE"
      ],
      "metadata": {
        "id": "v5yZhBrEI-XO"
      }
    },
    {
      "cell_type": "code",
      "source": [
        "loss2_2= model2.evaluate(X_test_tr, y_test)\n",
        "rmse2_2 = np.sqrt(loss2_2)\n",
        "print(rmse2_2)"
      ],
      "metadata": {
        "colab": {
          "base_uri": "https://localhost:8080/"
        },
        "id": "jL78z3NiFP7a",
        "outputId": "eeb797c0-ea72-4cba-f636-38b95e3932ec"
      },
      "execution_count": null,
      "outputs": [
        {
          "output_type": "stream",
          "name": "stdout",
          "text": [
            "5334/5334 [==============================] - 7s 1ms/step - loss: 0.1370\n",
            "0.3701447247650888\n"
          ]
        }
      ]
    },
    {
      "cell_type": "code",
      "source": [
        "from matplotlib import pyplot as plt\n",
        "plt.title('Learning Curves')\n",
        "plt.xlabel('Epoch')\n",
        "plt.ylabel('RMSE')\n",
        "plt.plot(np.sqrt(history2.history['loss']), label='train')\n",
        "plt.plot(np.sqrt(history2.history['val_loss']), label='val')\n",
        "plt.legend()\n",
        "plt.show()"
      ],
      "metadata": {
        "colab": {
          "base_uri": "https://localhost:8080/",
          "height": 481
        },
        "id": "uNHF7PIbHvE1",
        "outputId": "05e18553-71ad-48d3-f174-27f098ef6d7f"
      },
      "execution_count": null,
      "outputs": [
        {
          "output_type": "display_data",
          "data": {
            "text/plain": [
              "<Figure size 640x480 with 1 Axes>"
            ],
            "image/png": "[encoded data removed]"
          },
          "metadata": {}
        }
      ]
    },
    {
      "cell_type": "code",
      "source": [
        "keras.backend.clear_session() # clearing session\n",
        "np.random.seed(42) # generating random see\n",
        "tf.random.set_seed(42) # set.seed function helps reuse same set of random variables"
      ],
      "metadata": {
        "id": "zuGRcfMwIIKv"
      },
      "execution_count": null,
      "outputs": []
    },
    {
      "cell_type": "code",
      "source": [
        "model3 = keras.models.Sequential()\n",
        "model3.add(keras.Input(shape=(n_features,)))\n",
        "model3.add(keras.layers.Dense(300, activation='relu', kernel_initializer='he_normal'))\n",
        "model3.add(keras.layers.Dense(100, activation='relu', kernel_initializer='he_normal'))\n",
        "model3.add(keras.layers.Dense(1))"
      ],
      "metadata": {
        "id": "6LJWHHU0H4go"
      },
      "execution_count": null,
      "outputs": []
    },
    {
      "cell_type": "code",
      "source": [
        "model3.summary()"
      ],
      "metadata": {
        "colab": {
          "base_uri": "https://localhost:8080/"
        },
        "id": "cXFOTWCFr1Tm",
        "outputId": "0f0a0e89-fbe8-4c73-c962-c1fc60e17e65"
      },
      "execution_count": null,
      "outputs": [
        {
          "output_type": "stream",
          "name": "stdout",
          "text": [
            "Model: \"sequential\"\n",
            "_________________________________________________________________\n",
            " Layer (type)                Output Shape              Param #   \n",
            "=================================================================\n",
            " dense (Dense)               (None, 300)               20100     \n",
            "                                                                 \n",
            " dense_1 (Dense)             (None, 100)               30100     \n",
            "                                                                 \n",
            " dense_2 (Dense)             (None, 1)                 101       \n",
            "                                                                 \n",
            "=================================================================\n",
            "Total params: 50301 (196.49 KB)\n",
            "Trainable params: 50301 (196.49 KB)\n",
            "Non-trainable params: 0 (0.00 Byte)\n",
            "_________________________________________________________________\n"
          ]
        }
      ]
    },
    {
      "cell_type": "code",
      "source": [
        "model3.compile(optimizer='adam', loss='mse')"
      ],
      "metadata": {
        "id": "KIw2EVEkT5oR"
      },
      "execution_count": null,
      "outputs": []
    },
    {
      "cell_type": "code",
      "source": [
        "history3 = model3.fit(X_train, y_train, epochs=50, batch_size=32, validation_data=(X_valid, y_valid))"
      ],
      "metadata": {
        "colab": {
          "base_uri": "https://localhost:8080/"
        },
        "id": "f79Ym6YzT7yJ",
        "outputId": "c36b8d37-6f96-4b96-81b1-d44bf03a6a9e"
      },
      "execution_count": null,
      "outputs": [
        {
          "output_type": "stream",
          "name": "stdout",
          "text": [
            "Epoch 1/50\n",
            "18226/18226 [==============================] - 50s 3ms/step - loss: 1.7087 - val_loss: 1.6417\n",
            "Epoch 2/50\n",
            "18226/18226 [==============================] - 51s 3ms/step - loss: 0.3824 - val_loss: 0.1960\n",
            "Epoch 3/50\n",
            "18226/18226 [==============================] - 49s 3ms/step - loss: 0.2006 - val_loss: 0.2104\n",
            "Epoch 4/50\n",
            "18226/18226 [==============================] - 49s 3ms/step - loss: 0.2078 - val_loss: 0.1734\n",
            "Epoch 5/50\n",
            "18226/18226 [==============================] - 50s 3ms/step - loss: 0.1659 - val_loss: 0.1496\n",
            "Epoch 6/50\n",
            "18226/18226 [==============================] - 51s 3ms/step - loss: 0.1540 - val_loss: 0.1418\n",
            "Epoch 7/50\n",
            "18226/18226 [==============================] - 54s 3ms/step - loss: 0.1348 - val_loss: 0.2765\n",
            "Epoch 8/50\n",
            "18226/18226 [==============================] - 51s 3ms/step - loss: 0.1582 - val_loss: 0.1339\n",
            "Epoch 9/50\n",
            "18226/18226 [==============================] - 55s 3ms/step - loss: 0.1331 - val_loss: 0.1311\n",
            "Epoch 10/50\n",
            "18226/18226 [==============================] - 50s 3ms/step - loss: 0.1284 - val_loss: 0.1251\n",
            "Epoch 11/50\n",
            "18226/18226 [==============================] - 49s 3ms/step - loss: 0.1232 - val_loss: 0.1398\n",
            "Epoch 12/50\n",
            "18226/18226 [==============================] - 51s 3ms/step - loss: 0.1206 - val_loss: 0.1303\n",
            "Epoch 13/50\n",
            "18226/18226 [==============================] - 49s 3ms/step - loss: 0.1183 - val_loss: 0.1407\n",
            "Epoch 14/50\n",
            "18226/18226 [==============================] - 48s 3ms/step - loss: 0.1202 - val_loss: 0.1443\n",
            "Epoch 15/50\n",
            "18226/18226 [==============================] - 48s 3ms/step - loss: 0.1145 - val_loss: 0.1214\n",
            "Epoch 16/50\n",
            "18226/18226 [==============================] - 48s 3ms/step - loss: 0.1154 - val_loss: 0.1207\n",
            "Epoch 17/50\n",
            "18226/18226 [==============================] - 53s 3ms/step - loss: 0.1123 - val_loss: 0.1196\n",
            "Epoch 18/50\n",
            "18226/18226 [==============================] - 49s 3ms/step - loss: 0.1140 - val_loss: 0.1168\n",
            "Epoch 19/50\n",
            "18226/18226 [==============================] - 48s 3ms/step - loss: 0.1101 - val_loss: 0.1168\n",
            "Epoch 20/50\n",
            "18226/18226 [==============================] - 50s 3ms/step - loss: 0.1088 - val_loss: 0.1333\n",
            "Epoch 21/50\n",
            "18226/18226 [==============================] - 48s 3ms/step - loss: 0.1091 - val_loss: 0.1316\n",
            "Epoch 22/50\n",
            "18226/18226 [==============================] - 49s 3ms/step - loss: 0.1093 - val_loss: 0.1330\n",
            "Epoch 23/50\n",
            "18226/18226 [==============================] - 50s 3ms/step - loss: 0.1085 - val_loss: 0.1159\n",
            "Epoch 24/50\n",
            "18226/18226 [==============================] - 49s 3ms/step - loss: 0.1084 - val_loss: 0.1169\n",
            "Epoch 25/50\n",
            "18226/18226 [==============================] - 49s 3ms/step - loss: 0.1085 - val_loss: 0.1174\n",
            "Epoch 26/50\n",
            "18226/18226 [==============================] - 48s 3ms/step - loss: 0.1060 - val_loss: 0.1105\n",
            "Epoch 27/50\n",
            "18226/18226 [==============================] - 48s 3ms/step - loss: 0.1071 - val_loss: 0.1170\n",
            "Epoch 28/50\n",
            "18226/18226 [==============================] - 49s 3ms/step - loss: 0.1054 - val_loss: 0.1100\n",
            "Epoch 29/50\n",
            "18226/18226 [==============================] - 51s 3ms/step - loss: 0.1057 - val_loss: 0.1204\n",
            "Epoch 30/50\n",
            "18226/18226 [==============================] - 50s 3ms/step - loss: 0.1062 - val_loss: 0.1108\n",
            "Epoch 31/50\n",
            "18226/18226 [==============================] - 54s 3ms/step - loss: 0.1044 - val_loss: 0.1109\n",
            "Epoch 32/50\n",
            "18226/18226 [==============================] - 50s 3ms/step - loss: 0.1035 - val_loss: 0.1218\n",
            "Epoch 33/50\n",
            "18226/18226 [==============================] - 51s 3ms/step - loss: 0.1045 - val_loss: 0.1198\n",
            "Epoch 34/50\n",
            "18226/18226 [==============================] - 50s 3ms/step - loss: 0.1058 - val_loss: 0.1106\n",
            "Epoch 35/50\n",
            "18226/18226 [==============================] - 49s 3ms/step - loss: 0.1055 - val_loss: 0.1239\n",
            "Epoch 36/50\n",
            "18226/18226 [==============================] - 52s 3ms/step - loss: 0.1037 - val_loss: 0.1205\n",
            "Epoch 37/50\n",
            "18226/18226 [==============================] - 51s 3ms/step - loss: 0.1031 - val_loss: 0.1255\n",
            "Epoch 38/50\n",
            "18226/18226 [==============================] - 50s 3ms/step - loss: 0.1042 - val_loss: 0.1162\n",
            "Epoch 39/50\n",
            "18226/18226 [==============================] - 51s 3ms/step - loss: 0.1021 - val_loss: 0.1061\n",
            "Epoch 40/50\n",
            "18226/18226 [==============================] - 50s 3ms/step - loss: 0.1011 - val_loss: 0.1114\n",
            "Epoch 41/50\n",
            "18226/18226 [==============================] - 48s 3ms/step - loss: 0.1030 - val_loss: 0.1291\n",
            "Epoch 42/50\n",
            "18226/18226 [==============================] - 49s 3ms/step - loss: 0.1009 - val_loss: 0.1376\n",
            "Epoch 43/50\n",
            "18226/18226 [==============================] - 50s 3ms/step - loss: 0.1073 - val_loss: 0.1149\n",
            "Epoch 44/50\n",
            "18226/18226 [==============================] - 51s 3ms/step - loss: 0.1003 - val_loss: 0.1083\n",
            "Epoch 45/50\n",
            "18226/18226 [==============================] - 48s 3ms/step - loss: 0.1020 - val_loss: 0.1112\n",
            "Epoch 46/50\n",
            "18226/18226 [==============================] - 48s 3ms/step - loss: 0.1018 - val_loss: 0.1136\n",
            "Epoch 47/50\n",
            "18226/18226 [==============================] - 48s 3ms/step - loss: 0.1009 - val_loss: 0.1030\n",
            "Epoch 48/50\n",
            "18226/18226 [==============================] - 48s 3ms/step - loss: 0.0999 - val_loss: 0.1157\n",
            "Epoch 49/50\n",
            "18226/18226 [==============================] - 54s 3ms/step - loss: 0.1020 - val_loss: 0.1071\n",
            "Epoch 50/50\n",
            "18226/18226 [==============================] - 52s 3ms/step - loss: 0.1000 - val_loss: 0.1067\n"
          ]
        }
      ]
    },
    {
      "cell_type": "code",
      "source": [
        "#print(history2_2.history['loss'][-1])\n",
        "print('Train loss-->', np.sqrt(history3.history['loss'][-1]))\n",
        "#print(history2_2.history['val_loss'][-1])\n",
        "print('Validation loss-->', np.sqrt(history3.history['val_loss'][-1]))\n",
        "loss3= model3.evaluate(X_test_tr, y_test)\n",
        "rmse3 = np.sqrt(loss3)\n",
        "print('Test RMSE-->', rmse3)"
      ],
      "metadata": {
        "colab": {
          "base_uri": "https://localhost:8080/"
        },
        "id": "P2Z9yoZScwY9",
        "outputId": "106267e4-b880-472d-fe04-70a94616eec3"
      },
      "execution_count": null,
      "outputs": [
        {
          "output_type": "stream",
          "name": "stdout",
          "text": [
            "Train loss--> 0.3161848494551906\n",
            "Validation loss--> 0.326680979613819\n",
            "5334/5334 [==============================] - 10s 2ms/step - loss: 0.0992\n",
            "Test RMSE--> 0.31499215833424954\n"
          ]
        }
      ]
    },
    {
      "cell_type": "code",
      "source": [
        "from matplotlib import pyplot as plt\n",
        "plt.title('Learning Curves')\n",
        "plt.xlabel('Epoch')\n",
        "plt.ylabel('RMSE')\n",
        "plt.plot(np.sqrt(history3.history['loss']), label='train')\n",
        "plt.plot(np.sqrt(history3.history['val_loss']), label='val')\n",
        "plt.legend()\n",
        "plt.show()"
      ],
      "metadata": {
        "colab": {
          "base_uri": "https://localhost:8080/",
          "height": 481
        },
        "id": "YfP_h5FcuY3u",
        "outputId": "a6b1a8e2-57af-4062-b96e-f10059268845"
      },
      "execution_count": null,
      "outputs": [
        {
          "output_type": "display_data",
          "data": {
            "text/plain": [
              "<Figure size 640x480 with 1 Axes>"
            ],
            "image/png": "[encoded data removed]"
          },
          "metadata": {}
        }
      ]
    },
    {
      "cell_type": "code",
      "source": [
        "model3.summary()"
      ],
      "metadata": {
        "colab": {
          "base_uri": "https://localhost:8080/"
        },
        "id": "0_DbHB6byWrk",
        "outputId": "02267ca4-846d-4ad1-eec9-fa1ff0c75008"
      },
      "execution_count": null,
      "outputs": [
        {
          "output_type": "stream",
          "name": "stdout",
          "text": [
            "Model: \"sequential\"\n",
            "_________________________________________________________________\n",
            " Layer (type)                Output Shape              Param #   \n",
            "=================================================================\n",
            " dense (Dense)               (None, 300)               20100     \n",
            "                                                                 \n",
            " dense_1 (Dense)             (None, 100)               30100     \n",
            "                                                                 \n",
            " dense_2 (Dense)             (None, 1)                 101       \n",
            "                                                                 \n",
            "=================================================================\n",
            "Total params: 50301 (196.49 KB)\n",
            "Trainable params: 50301 (196.49 KB)\n",
            "Non-trainable params: 0 (0.00 Byte)\n",
            "_________________________________________________________________\n"
          ]
        }
      ]
    },
    {
      "cell_type": "code",
      "source": [
        "keras.utils.plot_model(model3, 'model3.png', show_shapes=True)"
      ],
      "metadata": {
        "colab": {
          "base_uri": "https://localhost:8080/",
          "height": 422
        },
        "id": "LMXoeWIDyicu",
        "outputId": "abb5e385-e02a-436e-dd65-f9eb9a7e8acb"
      },
      "execution_count": null,
      "outputs": [
        {
          "output_type": "execute_result",
          "data": {
            "image/png": "[encoded data removed]",
            "text/plain": [
              "<IPython.core.display.Image object>"
            ]
          },
          "metadata": {},
          "execution_count": 61
        }
      ]
    }
  ]
}